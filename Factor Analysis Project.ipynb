{
 "cells": [
  {
   "cell_type": "markdown",
   "id": "5e68c776",
   "metadata": {},
   "source": [
    "# Factor Analysis on Airlines Dataset"
   ]
  },
  {
   "cell_type": "markdown",
   "id": "8d6ae6a6",
   "metadata": {},
   "source": [
    "- Factor Analyzer Installation : It is used for efficient factor analysis in Python, revealing latent patterns and reducing dimensionality in datasets."
   ]
  },
  {
   "cell_type": "code",
   "execution_count": 71,
   "id": "6beed9ab",
   "metadata": {
    "scrolled": true
   },
   "outputs": [
    {
     "name": "stdout",
     "output_type": "stream",
     "text": [
      "Requirement already satisfied: factor_analyzer in c:\\users\\daya\\anaconda3\\lib\\site-packages (0.5.1)\n",
      "Requirement already satisfied: pandas in c:\\users\\daya\\anaconda3\\lib\\site-packages (from factor_analyzer) (2.0.3)\n",
      "Requirement already satisfied: scipy in c:\\users\\daya\\anaconda3\\lib\\site-packages (from factor_analyzer) (1.11.1)\n",
      "Requirement already satisfied: numpy in c:\\users\\daya\\anaconda3\\lib\\site-packages (from factor_analyzer) (1.24.3)\n",
      "Requirement already satisfied: scikit-learn in c:\\users\\daya\\anaconda3\\lib\\site-packages (from factor_analyzer) (1.3.0)\n",
      "Requirement already satisfied: python-dateutil>=2.8.2 in c:\\users\\daya\\anaconda3\\lib\\site-packages (from pandas->factor_analyzer) (2.8.2)\n",
      "Requirement already satisfied: pytz>=2020.1 in c:\\users\\daya\\anaconda3\\lib\\site-packages (from pandas->factor_analyzer) (2023.3.post1)\n",
      "Requirement already satisfied: tzdata>=2022.1 in c:\\users\\daya\\anaconda3\\lib\\site-packages (from pandas->factor_analyzer) (2023.3)\n",
      "Requirement already satisfied: joblib>=1.1.1 in c:\\users\\daya\\anaconda3\\lib\\site-packages (from scikit-learn->factor_analyzer) (1.2.0)\n",
      "Requirement already satisfied: threadpoolctl>=2.0.0 in c:\\users\\daya\\anaconda3\\lib\\site-packages (from scikit-learn->factor_analyzer) (2.2.0)\n",
      "Requirement already satisfied: six>=1.5 in c:\\users\\daya\\anaconda3\\lib\\site-packages (from python-dateutil>=2.8.2->pandas->factor_analyzer) (1.16.0)\n"
     ]
    }
   ],
   "source": [
    "!pip install factor_analyzer"
   ]
  },
  {
   "cell_type": "markdown",
   "id": "fe8c6c20",
   "metadata": {},
   "source": [
    "- Scikit-lean Installation : It is a versatile machine learning library in Python, offering tools for data preprocessing, model building and evaluation."
   ]
  },
  {
   "cell_type": "code",
   "execution_count": 72,
   "id": "57be1b4d",
   "metadata": {},
   "outputs": [
    {
     "name": "stdout",
     "output_type": "stream",
     "text": [
      "Requirement already satisfied: scikit-learn in c:\\users\\daya\\anaconda3\\lib\\site-packages (1.3.0)\n",
      "Requirement already satisfied: numpy>=1.17.3 in c:\\users\\daya\\anaconda3\\lib\\site-packages (from scikit-learn) (1.24.3)\n",
      "Requirement already satisfied: scipy>=1.5.0 in c:\\users\\daya\\anaconda3\\lib\\site-packages (from scikit-learn) (1.11.1)\n",
      "Requirement already satisfied: joblib>=1.1.1 in c:\\users\\daya\\anaconda3\\lib\\site-packages (from scikit-learn) (1.2.0)\n",
      "Requirement already satisfied: threadpoolctl>=2.0.0 in c:\\users\\daya\\anaconda3\\lib\\site-packages (from scikit-learn) (2.2.0)\n"
     ]
    }
   ],
   "source": [
    "!pip install scikit-learn"
   ]
  },
  {
   "cell_type": "markdown",
   "id": "30dd4045",
   "metadata": {},
   "source": [
    "- Required Package Installation."
   ]
  },
  {
   "cell_type": "code",
   "execution_count": 1,
   "id": "b2a6dc1d",
   "metadata": {
    "scrolled": true
   },
   "outputs": [],
   "source": [
    "from factor_analyzer import calculate_bartlett_sphericity\n",
    "from factor_analyzer import calculate_kmo\n",
    "from factor_analyzer import FactorAnalyzer\n",
    "from sklearn.decomposition import PCA\n",
    "from sklearn.preprocessing import StandardScaler\n",
    "import matplotlib.pyplot as plt\n",
    "from scipy.cluster.hierarchy import dendrogram, linkage\n",
    "from sklearn.cluster import KMeans\n",
    "import pandas as pd\n",
    "import numpy as np\n",
    "import seaborn as sns"
   ]
  },
  {
   "cell_type": "markdown",
   "id": "a88578f5",
   "metadata": {},
   "source": [
    "- Reading Excel File with Pandas"
   ]
  },
  {
   "cell_type": "code",
   "execution_count": 3,
   "id": "705fe645",
   "metadata": {},
   "outputs": [],
   "source": [
    "df=pd.read_excel('airline.xlsx')"
   ]
  },
  {
   "cell_type": "markdown",
   "id": "231031ab",
   "metadata": {},
   "source": [
    "- DataFrame Columns"
   ]
  },
  {
   "cell_type": "markdown",
   "id": "7d72d5bf",
   "metadata": {},
   "source": [
    "# EDA"
   ]
  },
  {
   "cell_type": "code",
   "execution_count": 4,
   "id": "8273d8ee",
   "metadata": {},
   "outputs": [
    {
     "data": {
      "text/plain": [
       "Index(['id', 'Gender', 'Customer Type', 'Type of Travel', 'Class',\n",
       "       'Flight Distance', 'Age', 'Inflight wifi service',\n",
       "       'Departure/Arrival time convenient', 'Ease of Online booking',\n",
       "       'Gate location', 'Food and drink', 'Online boarding', 'Seat comfort',\n",
       "       'Inflight entertainment', 'On-board service', 'Leg room service',\n",
       "       'Baggage handling', 'Checkin service', 'Inflight service',\n",
       "       'Cleanliness', 'Departure Delay in Minutes', 'Arrival Delay in Minutes',\n",
       "       'satisfaction'],\n",
       "      dtype='object')"
      ]
     },
     "execution_count": 4,
     "metadata": {},
     "output_type": "execute_result"
    }
   ],
   "source": [
    "df.columns"
   ]
  },
  {
   "cell_type": "markdown",
   "id": "282961e6",
   "metadata": {},
   "source": [
    "- Displaying the Top Rows of the DataFrame."
   ]
  },
  {
   "cell_type": "code",
   "execution_count": 5,
   "id": "509c27ae",
   "metadata": {},
   "outputs": [
    {
     "data": {
      "text/html": [
       "<div>\n",
       "<style scoped>\n",
       "    .dataframe tbody tr th:only-of-type {\n",
       "        vertical-align: middle;\n",
       "    }\n",
       "\n",
       "    .dataframe tbody tr th {\n",
       "        vertical-align: top;\n",
       "    }\n",
       "\n",
       "    .dataframe thead th {\n",
       "        text-align: right;\n",
       "    }\n",
       "</style>\n",
       "<table border=\"1\" class=\"dataframe\">\n",
       "  <thead>\n",
       "    <tr style=\"text-align: right;\">\n",
       "      <th></th>\n",
       "      <th>id</th>\n",
       "      <th>Gender</th>\n",
       "      <th>Customer Type</th>\n",
       "      <th>Type of Travel</th>\n",
       "      <th>Class</th>\n",
       "      <th>Flight Distance</th>\n",
       "      <th>Age</th>\n",
       "      <th>Inflight wifi service</th>\n",
       "      <th>Departure/Arrival time convenient</th>\n",
       "      <th>Ease of Online booking</th>\n",
       "      <th>...</th>\n",
       "      <th>Inflight entertainment</th>\n",
       "      <th>On-board service</th>\n",
       "      <th>Leg room service</th>\n",
       "      <th>Baggage handling</th>\n",
       "      <th>Checkin service</th>\n",
       "      <th>Inflight service</th>\n",
       "      <th>Cleanliness</th>\n",
       "      <th>Departure Delay in Minutes</th>\n",
       "      <th>Arrival Delay in Minutes</th>\n",
       "      <th>satisfaction</th>\n",
       "    </tr>\n",
       "  </thead>\n",
       "  <tbody>\n",
       "    <tr>\n",
       "      <th>0</th>\n",
       "      <td>19556</td>\n",
       "      <td>Female</td>\n",
       "      <td>Loyal Customer</td>\n",
       "      <td>Business travel</td>\n",
       "      <td>Eco</td>\n",
       "      <td>160</td>\n",
       "      <td>52</td>\n",
       "      <td>5</td>\n",
       "      <td>4</td>\n",
       "      <td>3</td>\n",
       "      <td>...</td>\n",
       "      <td>5</td>\n",
       "      <td>5</td>\n",
       "      <td>5</td>\n",
       "      <td>5</td>\n",
       "      <td>2</td>\n",
       "      <td>5</td>\n",
       "      <td>5</td>\n",
       "      <td>50</td>\n",
       "      <td>44.0</td>\n",
       "      <td>satisfied</td>\n",
       "    </tr>\n",
       "    <tr>\n",
       "      <th>1</th>\n",
       "      <td>90035</td>\n",
       "      <td>Female</td>\n",
       "      <td>Loyal Customer</td>\n",
       "      <td>Business travel</td>\n",
       "      <td>Business</td>\n",
       "      <td>2863</td>\n",
       "      <td>36</td>\n",
       "      <td>1</td>\n",
       "      <td>1</td>\n",
       "      <td>3</td>\n",
       "      <td>...</td>\n",
       "      <td>4</td>\n",
       "      <td>4</td>\n",
       "      <td>4</td>\n",
       "      <td>4</td>\n",
       "      <td>3</td>\n",
       "      <td>4</td>\n",
       "      <td>5</td>\n",
       "      <td>0</td>\n",
       "      <td>0.0</td>\n",
       "      <td>satisfied</td>\n",
       "    </tr>\n",
       "    <tr>\n",
       "      <th>2</th>\n",
       "      <td>12360</td>\n",
       "      <td>Male</td>\n",
       "      <td>disloyal Customer</td>\n",
       "      <td>Business travel</td>\n",
       "      <td>Eco</td>\n",
       "      <td>192</td>\n",
       "      <td>20</td>\n",
       "      <td>2</td>\n",
       "      <td>0</td>\n",
       "      <td>2</td>\n",
       "      <td>...</td>\n",
       "      <td>2</td>\n",
       "      <td>4</td>\n",
       "      <td>1</td>\n",
       "      <td>3</td>\n",
       "      <td>2</td>\n",
       "      <td>2</td>\n",
       "      <td>2</td>\n",
       "      <td>0</td>\n",
       "      <td>0.0</td>\n",
       "      <td>neutral or dissatisfied</td>\n",
       "    </tr>\n",
       "    <tr>\n",
       "      <th>3</th>\n",
       "      <td>77959</td>\n",
       "      <td>Male</td>\n",
       "      <td>Loyal Customer</td>\n",
       "      <td>Business travel</td>\n",
       "      <td>Business</td>\n",
       "      <td>3377</td>\n",
       "      <td>44</td>\n",
       "      <td>0</td>\n",
       "      <td>0</td>\n",
       "      <td>0</td>\n",
       "      <td>...</td>\n",
       "      <td>1</td>\n",
       "      <td>1</td>\n",
       "      <td>1</td>\n",
       "      <td>1</td>\n",
       "      <td>3</td>\n",
       "      <td>1</td>\n",
       "      <td>4</td>\n",
       "      <td>0</td>\n",
       "      <td>6.0</td>\n",
       "      <td>satisfied</td>\n",
       "    </tr>\n",
       "    <tr>\n",
       "      <th>4</th>\n",
       "      <td>36875</td>\n",
       "      <td>Female</td>\n",
       "      <td>Loyal Customer</td>\n",
       "      <td>Business travel</td>\n",
       "      <td>Eco</td>\n",
       "      <td>1182</td>\n",
       "      <td>49</td>\n",
       "      <td>2</td>\n",
       "      <td>3</td>\n",
       "      <td>4</td>\n",
       "      <td>...</td>\n",
       "      <td>2</td>\n",
       "      <td>2</td>\n",
       "      <td>2</td>\n",
       "      <td>2</td>\n",
       "      <td>4</td>\n",
       "      <td>2</td>\n",
       "      <td>4</td>\n",
       "      <td>0</td>\n",
       "      <td>20.0</td>\n",
       "      <td>satisfied</td>\n",
       "    </tr>\n",
       "  </tbody>\n",
       "</table>\n",
       "<p>5 rows × 24 columns</p>\n",
       "</div>"
      ],
      "text/plain": [
       "      id  Gender      Customer Type   Type of Travel     Class  \\\n",
       "0  19556  Female     Loyal Customer  Business travel       Eco   \n",
       "1  90035  Female     Loyal Customer  Business travel  Business   \n",
       "2  12360    Male  disloyal Customer  Business travel       Eco   \n",
       "3  77959    Male     Loyal Customer  Business travel  Business   \n",
       "4  36875  Female     Loyal Customer  Business travel       Eco   \n",
       "\n",
       "   Flight Distance  Age  Inflight wifi service  \\\n",
       "0              160   52                      5   \n",
       "1             2863   36                      1   \n",
       "2              192   20                      2   \n",
       "3             3377   44                      0   \n",
       "4             1182   49                      2   \n",
       "\n",
       "   Departure/Arrival time convenient  Ease of Online booking  ...  \\\n",
       "0                                  4                       3  ...   \n",
       "1                                  1                       3  ...   \n",
       "2                                  0                       2  ...   \n",
       "3                                  0                       0  ...   \n",
       "4                                  3                       4  ...   \n",
       "\n",
       "   Inflight entertainment  On-board service  Leg room service  \\\n",
       "0                       5                 5                 5   \n",
       "1                       4                 4                 4   \n",
       "2                       2                 4                 1   \n",
       "3                       1                 1                 1   \n",
       "4                       2                 2                 2   \n",
       "\n",
       "   Baggage handling  Checkin service  Inflight service  Cleanliness  \\\n",
       "0                 5                2                 5            5   \n",
       "1                 4                3                 4            5   \n",
       "2                 3                2                 2            2   \n",
       "3                 1                3                 1            4   \n",
       "4                 2                4                 2            4   \n",
       "\n",
       "   Departure Delay in Minutes  Arrival Delay in Minutes  \\\n",
       "0                          50                      44.0   \n",
       "1                           0                       0.0   \n",
       "2                           0                       0.0   \n",
       "3                           0                       6.0   \n",
       "4                           0                      20.0   \n",
       "\n",
       "              satisfaction  \n",
       "0                satisfied  \n",
       "1                satisfied  \n",
       "2  neutral or dissatisfied  \n",
       "3                satisfied  \n",
       "4                satisfied  \n",
       "\n",
       "[5 rows x 24 columns]"
      ]
     },
     "execution_count": 5,
     "metadata": {},
     "output_type": "execute_result"
    }
   ],
   "source": [
    "df.head()"
   ]
  },
  {
   "cell_type": "markdown",
   "id": "5752b714",
   "metadata": {},
   "source": [
    "- DataFrame Shape."
   ]
  },
  {
   "cell_type": "code",
   "execution_count": 6,
   "id": "5c5a0254",
   "metadata": {},
   "outputs": [
    {
     "data": {
      "text/plain": [
       "(25976, 24)"
      ]
     },
     "execution_count": 6,
     "metadata": {},
     "output_type": "execute_result"
    }
   ],
   "source": [
    "df.shape"
   ]
  },
  {
   "cell_type": "markdown",
   "id": "e360ddb8",
   "metadata": {},
   "source": [
    "- Converting Satisfaction Levels to Binary Values."
   ]
  },
  {
   "cell_type": "code",
   "execution_count": 7,
   "id": "a64bf80f",
   "metadata": {},
   "outputs": [],
   "source": [
    "df['satisfaction']=df['satisfaction'].map({'neutral or dissatisfied':0,'satisfied':1}) "
   ]
  },
  {
   "cell_type": "markdown",
   "id": "182e52c6",
   "metadata": {},
   "source": [
    "- Creating a Subset DataFrame (df_dropped) from Column Index 6 to -3"
   ]
  },
  {
   "cell_type": "code",
   "execution_count": 8,
   "id": "f9d31d7c",
   "metadata": {},
   "outputs": [],
   "source": [
    "df_dropped = df.iloc[:, 6:-3]"
   ]
  },
  {
   "cell_type": "markdown",
   "id": "63f0bc5b",
   "metadata": {},
   "source": [
    "- Subset DataFrame."
   ]
  },
  {
   "cell_type": "code",
   "execution_count": 9,
   "id": "4451771b",
   "metadata": {},
   "outputs": [
    {
     "data": {
      "text/html": [
       "<div>\n",
       "<style scoped>\n",
       "    .dataframe tbody tr th:only-of-type {\n",
       "        vertical-align: middle;\n",
       "    }\n",
       "\n",
       "    .dataframe tbody tr th {\n",
       "        vertical-align: top;\n",
       "    }\n",
       "\n",
       "    .dataframe thead th {\n",
       "        text-align: right;\n",
       "    }\n",
       "</style>\n",
       "<table border=\"1\" class=\"dataframe\">\n",
       "  <thead>\n",
       "    <tr style=\"text-align: right;\">\n",
       "      <th></th>\n",
       "      <th>Age</th>\n",
       "      <th>Inflight wifi service</th>\n",
       "      <th>Departure/Arrival time convenient</th>\n",
       "      <th>Ease of Online booking</th>\n",
       "      <th>Gate location</th>\n",
       "      <th>Food and drink</th>\n",
       "      <th>Online boarding</th>\n",
       "      <th>Seat comfort</th>\n",
       "      <th>Inflight entertainment</th>\n",
       "      <th>On-board service</th>\n",
       "      <th>Leg room service</th>\n",
       "      <th>Baggage handling</th>\n",
       "      <th>Checkin service</th>\n",
       "      <th>Inflight service</th>\n",
       "      <th>Cleanliness</th>\n",
       "    </tr>\n",
       "  </thead>\n",
       "  <tbody>\n",
       "    <tr>\n",
       "      <th>0</th>\n",
       "      <td>52</td>\n",
       "      <td>5</td>\n",
       "      <td>4</td>\n",
       "      <td>3</td>\n",
       "      <td>4</td>\n",
       "      <td>3</td>\n",
       "      <td>4</td>\n",
       "      <td>3</td>\n",
       "      <td>5</td>\n",
       "      <td>5</td>\n",
       "      <td>5</td>\n",
       "      <td>5</td>\n",
       "      <td>2</td>\n",
       "      <td>5</td>\n",
       "      <td>5</td>\n",
       "    </tr>\n",
       "    <tr>\n",
       "      <th>1</th>\n",
       "      <td>36</td>\n",
       "      <td>1</td>\n",
       "      <td>1</td>\n",
       "      <td>3</td>\n",
       "      <td>1</td>\n",
       "      <td>5</td>\n",
       "      <td>4</td>\n",
       "      <td>5</td>\n",
       "      <td>4</td>\n",
       "      <td>4</td>\n",
       "      <td>4</td>\n",
       "      <td>4</td>\n",
       "      <td>3</td>\n",
       "      <td>4</td>\n",
       "      <td>5</td>\n",
       "    </tr>\n",
       "    <tr>\n",
       "      <th>2</th>\n",
       "      <td>20</td>\n",
       "      <td>2</td>\n",
       "      <td>0</td>\n",
       "      <td>2</td>\n",
       "      <td>4</td>\n",
       "      <td>2</td>\n",
       "      <td>2</td>\n",
       "      <td>2</td>\n",
       "      <td>2</td>\n",
       "      <td>4</td>\n",
       "      <td>1</td>\n",
       "      <td>3</td>\n",
       "      <td>2</td>\n",
       "      <td>2</td>\n",
       "      <td>2</td>\n",
       "    </tr>\n",
       "    <tr>\n",
       "      <th>3</th>\n",
       "      <td>44</td>\n",
       "      <td>0</td>\n",
       "      <td>0</td>\n",
       "      <td>0</td>\n",
       "      <td>2</td>\n",
       "      <td>3</td>\n",
       "      <td>4</td>\n",
       "      <td>4</td>\n",
       "      <td>1</td>\n",
       "      <td>1</td>\n",
       "      <td>1</td>\n",
       "      <td>1</td>\n",
       "      <td>3</td>\n",
       "      <td>1</td>\n",
       "      <td>4</td>\n",
       "    </tr>\n",
       "    <tr>\n",
       "      <th>4</th>\n",
       "      <td>49</td>\n",
       "      <td>2</td>\n",
       "      <td>3</td>\n",
       "      <td>4</td>\n",
       "      <td>3</td>\n",
       "      <td>4</td>\n",
       "      <td>1</td>\n",
       "      <td>2</td>\n",
       "      <td>2</td>\n",
       "      <td>2</td>\n",
       "      <td>2</td>\n",
       "      <td>2</td>\n",
       "      <td>4</td>\n",
       "      <td>2</td>\n",
       "      <td>4</td>\n",
       "    </tr>\n",
       "    <tr>\n",
       "      <th>...</th>\n",
       "      <td>...</td>\n",
       "      <td>...</td>\n",
       "      <td>...</td>\n",
       "      <td>...</td>\n",
       "      <td>...</td>\n",
       "      <td>...</td>\n",
       "      <td>...</td>\n",
       "      <td>...</td>\n",
       "      <td>...</td>\n",
       "      <td>...</td>\n",
       "      <td>...</td>\n",
       "      <td>...</td>\n",
       "      <td>...</td>\n",
       "      <td>...</td>\n",
       "      <td>...</td>\n",
       "    </tr>\n",
       "    <tr>\n",
       "      <th>25971</th>\n",
       "      <td>34</td>\n",
       "      <td>3</td>\n",
       "      <td>3</td>\n",
       "      <td>3</td>\n",
       "      <td>1</td>\n",
       "      <td>4</td>\n",
       "      <td>3</td>\n",
       "      <td>4</td>\n",
       "      <td>4</td>\n",
       "      <td>3</td>\n",
       "      <td>2</td>\n",
       "      <td>4</td>\n",
       "      <td>4</td>\n",
       "      <td>5</td>\n",
       "      <td>4</td>\n",
       "    </tr>\n",
       "    <tr>\n",
       "      <th>25972</th>\n",
       "      <td>23</td>\n",
       "      <td>4</td>\n",
       "      <td>4</td>\n",
       "      <td>4</td>\n",
       "      <td>4</td>\n",
       "      <td>4</td>\n",
       "      <td>4</td>\n",
       "      <td>4</td>\n",
       "      <td>4</td>\n",
       "      <td>4</td>\n",
       "      <td>5</td>\n",
       "      <td>5</td>\n",
       "      <td>5</td>\n",
       "      <td>5</td>\n",
       "      <td>4</td>\n",
       "    </tr>\n",
       "    <tr>\n",
       "      <th>25973</th>\n",
       "      <td>17</td>\n",
       "      <td>2</td>\n",
       "      <td>5</td>\n",
       "      <td>1</td>\n",
       "      <td>5</td>\n",
       "      <td>2</td>\n",
       "      <td>1</td>\n",
       "      <td>2</td>\n",
       "      <td>2</td>\n",
       "      <td>4</td>\n",
       "      <td>3</td>\n",
       "      <td>4</td>\n",
       "      <td>5</td>\n",
       "      <td>4</td>\n",
       "      <td>2</td>\n",
       "    </tr>\n",
       "    <tr>\n",
       "      <th>25974</th>\n",
       "      <td>14</td>\n",
       "      <td>3</td>\n",
       "      <td>3</td>\n",
       "      <td>3</td>\n",
       "      <td>3</td>\n",
       "      <td>4</td>\n",
       "      <td>4</td>\n",
       "      <td>4</td>\n",
       "      <td>4</td>\n",
       "      <td>3</td>\n",
       "      <td>2</td>\n",
       "      <td>5</td>\n",
       "      <td>4</td>\n",
       "      <td>5</td>\n",
       "      <td>4</td>\n",
       "    </tr>\n",
       "    <tr>\n",
       "      <th>25975</th>\n",
       "      <td>42</td>\n",
       "      <td>2</td>\n",
       "      <td>5</td>\n",
       "      <td>2</td>\n",
       "      <td>5</td>\n",
       "      <td>4</td>\n",
       "      <td>2</td>\n",
       "      <td>2</td>\n",
       "      <td>1</td>\n",
       "      <td>1</td>\n",
       "      <td>2</td>\n",
       "      <td>1</td>\n",
       "      <td>1</td>\n",
       "      <td>1</td>\n",
       "      <td>1</td>\n",
       "    </tr>\n",
       "  </tbody>\n",
       "</table>\n",
       "<p>25976 rows × 15 columns</p>\n",
       "</div>"
      ],
      "text/plain": [
       "       Age  Inflight wifi service  Departure/Arrival time convenient  \\\n",
       "0       52                      5                                  4   \n",
       "1       36                      1                                  1   \n",
       "2       20                      2                                  0   \n",
       "3       44                      0                                  0   \n",
       "4       49                      2                                  3   \n",
       "...    ...                    ...                                ...   \n",
       "25971   34                      3                                  3   \n",
       "25972   23                      4                                  4   \n",
       "25973   17                      2                                  5   \n",
       "25974   14                      3                                  3   \n",
       "25975   42                      2                                  5   \n",
       "\n",
       "       Ease of Online booking  Gate location  Food and drink  Online boarding  \\\n",
       "0                           3              4               3                4   \n",
       "1                           3              1               5                4   \n",
       "2                           2              4               2                2   \n",
       "3                           0              2               3                4   \n",
       "4                           4              3               4                1   \n",
       "...                       ...            ...             ...              ...   \n",
       "25971                       3              1               4                3   \n",
       "25972                       4              4               4                4   \n",
       "25973                       1              5               2                1   \n",
       "25974                       3              3               4                4   \n",
       "25975                       2              5               4                2   \n",
       "\n",
       "       Seat comfort  Inflight entertainment  On-board service  \\\n",
       "0                 3                       5                 5   \n",
       "1                 5                       4                 4   \n",
       "2                 2                       2                 4   \n",
       "3                 4                       1                 1   \n",
       "4                 2                       2                 2   \n",
       "...             ...                     ...               ...   \n",
       "25971             4                       4                 3   \n",
       "25972             4                       4                 4   \n",
       "25973             2                       2                 4   \n",
       "25974             4                       4                 3   \n",
       "25975             2                       1                 1   \n",
       "\n",
       "       Leg room service  Baggage handling  Checkin service  Inflight service  \\\n",
       "0                     5                 5                2                 5   \n",
       "1                     4                 4                3                 4   \n",
       "2                     1                 3                2                 2   \n",
       "3                     1                 1                3                 1   \n",
       "4                     2                 2                4                 2   \n",
       "...                 ...               ...              ...               ...   \n",
       "25971                 2                 4                4                 5   \n",
       "25972                 5                 5                5                 5   \n",
       "25973                 3                 4                5                 4   \n",
       "25974                 2                 5                4                 5   \n",
       "25975                 2                 1                1                 1   \n",
       "\n",
       "       Cleanliness  \n",
       "0                5  \n",
       "1                5  \n",
       "2                2  \n",
       "3                4  \n",
       "4                4  \n",
       "...            ...  \n",
       "25971            4  \n",
       "25972            4  \n",
       "25973            2  \n",
       "25974            4  \n",
       "25975            1  \n",
       "\n",
       "[25976 rows x 15 columns]"
      ]
     },
     "execution_count": 9,
     "metadata": {},
     "output_type": "execute_result"
    }
   ],
   "source": [
    "df_dropped"
   ]
  },
  {
   "cell_type": "markdown",
   "id": "d2aab262",
   "metadata": {},
   "source": [
    "- Correaltion Matrix (z) for Subset DataFrame."
   ]
  },
  {
   "cell_type": "code",
   "execution_count": 10,
   "id": "1b3ebc14",
   "metadata": {},
   "outputs": [],
   "source": [
    "z=df_dropped.corr()"
   ]
  },
  {
   "cell_type": "markdown",
   "id": "718eb6b2",
   "metadata": {},
   "source": [
    "- Correlation Heatmap."
   ]
  },
  {
   "cell_type": "code",
   "execution_count": 11,
   "id": "df032f58",
   "metadata": {},
   "outputs": [
    {
     "data": {
      "image/png": "[encoded data removed]",
      "text/plain": [
       "<Figure size 1600x1600 with 2 Axes>"
      ]
     },
     "metadata": {},
     "output_type": "display_data"
    }
   ],
   "source": [
    "plt.figure(figsize=(16,16))\n",
    "sns.heatmap(z, annot=True)\n",
    "plt.show()"
   ]
  },
  {
   "cell_type": "markdown",
   "id": "53b064b9",
   "metadata": {},
   "source": [
    "# Adequacy Test : Bartlett’s Test of Sphericity.\n",
    "- HYPOTHESIS :\n",
    "- Null Hypothesis (H0): The observed variables in the dataset are not correlated, and therefore, the correlation matrix is an identity matrix (spherical).\n",
    "- Alternative Hypothesis (H1): The observed variables in the dataset are correlated, and the correlation matrix is not an identity matrix (non-spherical)."
   ]
  },
  {
   "cell_type": "code",
   "execution_count": 12,
   "id": "112abda6",
   "metadata": {},
   "outputs": [
    {
     "name": "stdout",
     "output_type": "stream",
     "text": [
      "Chi Square Value, P Values= 154473.6155704206 0.0\n"
     ]
    }
   ],
   "source": [
    "from factor_analyzer.factor_analyzer import calculate_bartlett_sphericity\n",
    "chi_square_value, p_value=calculate_bartlett_sphericity(df_dropped)\n",
    "print(\"Chi Square Value, P Values=\",chi_square_value,p_value)"
   ]
  },
  {
   "cell_type": "markdown",
   "id": "9ffa85d1",
   "metadata": {},
   "source": [
    "# Kaiser-Meyer-Olkin (KMO) Test\n",
    "- HYPOTHESIS:\n",
    "- Null Hypothesis (H0): The observed variables in the dataset are not suitable for structure detection, indicating that the partial correlations are close to zero.\n",
    "- Alternative Hypothesis (H1): The observed variables in the dataset are suitable for structure detection, indicating that the partial correlations are significantly different from zero."
   ]
  },
  {
   "cell_type": "code",
   "execution_count": 13,
   "id": "35201af9",
   "metadata": {},
   "outputs": [
    {
     "name": "stdout",
     "output_type": "stream",
     "text": [
      "KMO Value= 0.7785712021381271\n"
     ]
    }
   ],
   "source": [
    "from factor_analyzer.factor_analyzer import calculate_kmo\n",
    "kmo_all,kmo_model=calculate_kmo(df_dropped)\n",
    "print(\"KMO Value=\",kmo_model)"
   ]
  },
  {
   "cell_type": "markdown",
   "id": "75b1b281",
   "metadata": {},
   "source": [
    "- Standardization of Data"
   ]
  },
  {
   "cell_type": "code",
   "execution_count": 14,
   "id": "127bf4fa",
   "metadata": {},
   "outputs": [],
   "source": [
    "scaler = StandardScaler()\n",
    "data_scaled = scaler.fit_transform(df_dropped)"
   ]
  },
  {
   "cell_type": "markdown",
   "id": "96a064cb",
   "metadata": {},
   "source": [
    "# Factor Extraction"
   ]
  },
  {
   "cell_type": "markdown",
   "id": "cb71b92c",
   "metadata": {},
   "source": [
    "- Principal Component Analysis (PCA)"
   ]
  },
  {
   "cell_type": "code",
   "execution_count": 15,
   "id": "d0ac3ca3",
   "metadata": {},
   "outputs": [
    {
     "data": {
      "text/html": [
       "<style>#sk-container-id-1 {color: black;}#sk-container-id-1 pre{padding: 0;}#sk-container-id-1 div.sk-toggleable {background-color: white;}#sk-container-id-1 label.sk-toggleable__label {cursor: pointer;display: block;width: 100%;margin-bottom: 0;padding: 0.3em;box-sizing: border-box;text-align: center;}#sk-container-id-1 label.sk-toggleable__label-arrow:before {content: \"▸\";float: left;margin-right: 0.25em;color: #696969;}#sk-container-id-1 label.sk-toggleable__label-arrow:hover:before {color: black;}#sk-container-id-1 div.sk-estimator:hover label.sk-toggleable__label-arrow:before {color: black;}#sk-container-id-1 div.sk-toggleable__content {max-height: 0;max-width: 0;overflow: hidden;text-align: left;background-color: #f0f8ff;}#sk-container-id-1 div.sk-toggleable__content pre {margin: 0.2em;color: black;border-radius: 0.25em;background-color: #f0f8ff;}#sk-container-id-1 input.sk-toggleable__control:checked~div.sk-toggleable__content {max-height: 200px;max-width: 100%;overflow: auto;}#sk-container-id-1 input.sk-toggleable__control:checked~label.sk-toggleable__label-arrow:before {content: \"▾\";}#sk-container-id-1 div.sk-estimator input.sk-toggleable__control:checked~label.sk-toggleable__label {background-color: #d4ebff;}#sk-container-id-1 div.sk-label input.sk-toggleable__control:checked~label.sk-toggleable__label {background-color: #d4ebff;}#sk-container-id-1 input.sk-hidden--visually {border: 0;clip: rect(1px 1px 1px 1px);clip: rect(1px, 1px, 1px, 1px);height: 1px;margin: -1px;overflow: hidden;padding: 0;position: absolute;width: 1px;}#sk-container-id-1 div.sk-estimator {font-family: monospace;background-color: #f0f8ff;border: 1px dotted black;border-radius: 0.25em;box-sizing: border-box;margin-bottom: 0.5em;}#sk-container-id-1 div.sk-estimator:hover {background-color: #d4ebff;}#sk-container-id-1 div.sk-parallel-item::after {content: \"\";width: 100%;border-bottom: 1px solid gray;flex-grow: 1;}#sk-container-id-1 div.sk-label:hover label.sk-toggleable__label {background-color: #d4ebff;}#sk-container-id-1 div.sk-serial::before {content: \"\";position: absolute;border-left: 1px solid gray;box-sizing: border-box;top: 0;bottom: 0;left: 50%;z-index: 0;}#sk-container-id-1 div.sk-serial {display: flex;flex-direction: column;align-items: center;background-color: white;padding-right: 0.2em;padding-left: 0.2em;position: relative;}#sk-container-id-1 div.sk-item {position: relative;z-index: 1;}#sk-container-id-1 div.sk-parallel {display: flex;align-items: stretch;justify-content: center;background-color: white;position: relative;}#sk-container-id-1 div.sk-item::before, #sk-container-id-1 div.sk-parallel-item::before {content: \"\";position: absolute;border-left: 1px solid gray;box-sizing: border-box;top: 0;bottom: 0;left: 50%;z-index: -1;}#sk-container-id-1 div.sk-parallel-item {display: flex;flex-direction: column;z-index: 1;position: relative;background-color: white;}#sk-container-id-1 div.sk-parallel-item:first-child::after {align-self: flex-end;width: 50%;}#sk-container-id-1 div.sk-parallel-item:last-child::after {align-self: flex-start;width: 50%;}#sk-container-id-1 div.sk-parallel-item:only-child::after {width: 0;}#sk-container-id-1 div.sk-dashed-wrapped {border: 1px dashed gray;margin: 0 0.4em 0.5em 0.4em;box-sizing: border-box;padding-bottom: 0.4em;background-color: white;}#sk-container-id-1 div.sk-label label {font-family: monospace;font-weight: bold;display: inline-block;line-height: 1.2em;}#sk-container-id-1 div.sk-label-container {text-align: center;}#sk-container-id-1 div.sk-container {/* jupyter's `normalize.less` sets `[hidden] { display: none; }` but bootstrap.min.css set `[hidden] { display: none !important; }` so we also need the `!important` here to be able to override the default hidden behavior on the sphinx rendered scikit-learn.org. See: https://github.com/scikit-learn/scikit-learn/issues/21755 */display: inline-block !important;position: relative;}#sk-container-id-1 div.sk-text-repr-fallback {display: none;}</style><div id=\"sk-container-id-1\" class=\"sk-top-container\"><div class=\"sk-text-repr-fallback\"><pre>PCA()</pre><b>In a Jupyter environment, please rerun this cell to show the HTML representation or trust the notebook. <br />On GitHub, the HTML representation is unable to render, please try loading this page with nbviewer.org.</b></div><div class=\"sk-container\" hidden><div class=\"sk-item\"><div class=\"sk-estimator sk-toggleable\"><input class=\"sk-toggleable__control sk-hidden--visually\" id=\"sk-estimator-id-1\" type=\"checkbox\" checked><label for=\"sk-estimator-id-1\" class=\"sk-toggleable__label sk-toggleable__label-arrow\">PCA</label><div class=\"sk-toggleable__content\"><pre>PCA()</pre></div></div></div></div></div>"
      ],
      "text/plain": [
       "PCA()"
      ]
     },
     "execution_count": 15,
     "metadata": {},
     "output_type": "execute_result"
    }
   ],
   "source": [
    "pca = PCA()\n",
    "pca.fit(data_scaled)"
   ]
  },
  {
   "cell_type": "markdown",
   "id": "d52fa7b0",
   "metadata": {},
   "source": [
    "- Eigen Score and Variance Analysis"
   ]
  },
  {
   "cell_type": "code",
   "execution_count": 16,
   "id": "284fcb12",
   "metadata": {},
   "outputs": [],
   "source": [
    "eigen_values = pca.explained_variance_\n",
    "variance_ratio = pca.explained_variance_ratio_ * 100\n",
    "cumulative_ratio = variance_ratio.cumsum()"
   ]
  },
  {
   "cell_type": "markdown",
   "id": "87c96c89",
   "metadata": {},
   "source": [
    "- Eigen values, Variance ratio, Cumulative ratio"
   ]
  },
  {
   "cell_type": "code",
   "execution_count": 17,
   "id": "ab3748a1",
   "metadata": {},
   "outputs": [
    {
     "data": {
      "text/plain": [
       "array([ 25.31045417,  41.36827066,  56.00039811,  63.694468  ,\n",
       "        70.01571732,  76.25211491,  80.84093254,  84.29354306,\n",
       "        87.47443374,  90.50655325,  92.93969181,  95.13309456,\n",
       "        97.04760195,  98.77406866, 100.        ])"
      ]
     },
     "execution_count": 17,
     "metadata": {},
     "output_type": "execute_result"
    }
   ],
   "source": [
    "eigen_values\n",
    "variance_ratio\n",
    "cumulative_ratio"
   ]
  },
  {
   "cell_type": "markdown",
   "id": "ed80428e",
   "metadata": {},
   "source": [
    "# Principal component Analysis Results"
   ]
  },
  {
   "cell_type": "code",
   "execution_count": 18,
   "id": "03966357",
   "metadata": {},
   "outputs": [],
   "source": [
    "pca_results = pd.DataFrame({\n",
    "    'eigenvalue': eigen_values,\n",
    "    'percentage of variance': variance_ratio,\n",
    "    'cumulative percentage of variance': cumulative_ratio\n",
    "})\n",
    "pca_results.index = ['comp ' + str(i+1) for i in pca_results.index]"
   ]
  },
  {
   "cell_type": "code",
   "execution_count": 19,
   "id": "2bd5d406",
   "metadata": {},
   "outputs": [
    {
     "data": {
      "text/html": [
       "<div>\n",
       "<style scoped>\n",
       "    .dataframe tbody tr th:only-of-type {\n",
       "        vertical-align: middle;\n",
       "    }\n",
       "\n",
       "    .dataframe tbody tr th {\n",
       "        vertical-align: top;\n",
       "    }\n",
       "\n",
       "    .dataframe thead th {\n",
       "        text-align: right;\n",
       "    }\n",
       "</style>\n",
       "<table border=\"1\" class=\"dataframe\">\n",
       "  <thead>\n",
       "    <tr style=\"text-align: right;\">\n",
       "      <th></th>\n",
       "      <th>eigenvalue</th>\n",
       "      <th>percentage of variance</th>\n",
       "      <th>cumulative percentage of variance</th>\n",
       "    </tr>\n",
       "  </thead>\n",
       "  <tbody>\n",
       "    <tr>\n",
       "      <th>comp 1</th>\n",
       "      <td>3.796714</td>\n",
       "      <td>25.310454</td>\n",
       "      <td>25.310454</td>\n",
       "    </tr>\n",
       "    <tr>\n",
       "      <th>comp 2</th>\n",
       "      <td>2.408765</td>\n",
       "      <td>16.057816</td>\n",
       "      <td>41.368271</td>\n",
       "    </tr>\n",
       "    <tr>\n",
       "      <th>comp 3</th>\n",
       "      <td>2.194904</td>\n",
       "      <td>14.632127</td>\n",
       "      <td>56.000398</td>\n",
       "    </tr>\n",
       "    <tr>\n",
       "      <th>comp 4</th>\n",
       "      <td>1.154155</td>\n",
       "      <td>7.694070</td>\n",
       "      <td>63.694468</td>\n",
       "    </tr>\n",
       "    <tr>\n",
       "      <th>comp 5</th>\n",
       "      <td>0.948224</td>\n",
       "      <td>6.321249</td>\n",
       "      <td>70.015717</td>\n",
       "    </tr>\n",
       "    <tr>\n",
       "      <th>comp 6</th>\n",
       "      <td>0.935496</td>\n",
       "      <td>6.236398</td>\n",
       "      <td>76.252115</td>\n",
       "    </tr>\n",
       "    <tr>\n",
       "      <th>comp 7</th>\n",
       "      <td>0.688349</td>\n",
       "      <td>4.588818</td>\n",
       "      <td>80.840933</td>\n",
       "    </tr>\n",
       "    <tr>\n",
       "      <th>comp 8</th>\n",
       "      <td>0.517912</td>\n",
       "      <td>3.452611</td>\n",
       "      <td>84.293543</td>\n",
       "    </tr>\n",
       "    <tr>\n",
       "      <th>comp 9</th>\n",
       "      <td>0.477152</td>\n",
       "      <td>3.180891</td>\n",
       "      <td>87.474434</td>\n",
       "    </tr>\n",
       "    <tr>\n",
       "      <th>comp 10</th>\n",
       "      <td>0.454835</td>\n",
       "      <td>3.032120</td>\n",
       "      <td>90.506553</td>\n",
       "    </tr>\n",
       "    <tr>\n",
       "      <th>comp 11</th>\n",
       "      <td>0.364985</td>\n",
       "      <td>2.433139</td>\n",
       "      <td>92.939692</td>\n",
       "    </tr>\n",
       "    <tr>\n",
       "      <th>comp 12</th>\n",
       "      <td>0.329023</td>\n",
       "      <td>2.193403</td>\n",
       "      <td>95.133095</td>\n",
       "    </tr>\n",
       "    <tr>\n",
       "      <th>comp 13</th>\n",
       "      <td>0.287187</td>\n",
       "      <td>1.914507</td>\n",
       "      <td>97.047602</td>\n",
       "    </tr>\n",
       "    <tr>\n",
       "      <th>comp 14</th>\n",
       "      <td>0.258980</td>\n",
       "      <td>1.726467</td>\n",
       "      <td>98.774069</td>\n",
       "    </tr>\n",
       "    <tr>\n",
       "      <th>comp 15</th>\n",
       "      <td>0.183897</td>\n",
       "      <td>1.225931</td>\n",
       "      <td>100.000000</td>\n",
       "    </tr>\n",
       "  </tbody>\n",
       "</table>\n",
       "</div>"
      ],
      "text/plain": [
       "         eigenvalue  percentage of variance  cumulative percentage of variance\n",
       "comp 1     3.796714               25.310454                          25.310454\n",
       "comp 2     2.408765               16.057816                          41.368271\n",
       "comp 3     2.194904               14.632127                          56.000398\n",
       "comp 4     1.154155                7.694070                          63.694468\n",
       "comp 5     0.948224                6.321249                          70.015717\n",
       "comp 6     0.935496                6.236398                          76.252115\n",
       "comp 7     0.688349                4.588818                          80.840933\n",
       "comp 8     0.517912                3.452611                          84.293543\n",
       "comp 9     0.477152                3.180891                          87.474434\n",
       "comp 10    0.454835                3.032120                          90.506553\n",
       "comp 11    0.364985                2.433139                          92.939692\n",
       "comp 12    0.329023                2.193403                          95.133095\n",
       "comp 13    0.287187                1.914507                          97.047602\n",
       "comp 14    0.258980                1.726467                          98.774069\n",
       "comp 15    0.183897                1.225931                         100.000000"
      ]
     },
     "execution_count": 19,
     "metadata": {},
     "output_type": "execute_result"
    }
   ],
   "source": [
    "pca_results"
   ]
  },
  {
   "cell_type": "markdown",
   "id": "7ccef33d",
   "metadata": {},
   "source": [
    "# Scree Plot"
   ]
  },
  {
   "cell_type": "code",
   "execution_count": 20,
   "id": "1eed084a",
   "metadata": {},
   "outputs": [
    {
     "data": {
      "image/png": "[encoded data removed]",
      "text/plain": [
       "<Figure size 640x480 with 1 Axes>"
      ]
     },
     "metadata": {},
     "output_type": "display_data"
    }
   ],
   "source": [
    "plt.plot(eigen_values, marker='o')\n",
    "plt.title('Scree Plot')\n",
    "plt.xlabel('Principal Component')\n",
    "plt.ylabel('Eigenvalue')\n",
    "plt.grid(True)\n",
    "plt.show()"
   ]
  },
  {
   "cell_type": "markdown",
   "id": "33f84656",
   "metadata": {},
   "source": [
    "- Eigenvalues Calculation using FactorAnalyzer"
   ]
  },
  {
   "cell_type": "code",
   "execution_count": 21,
   "id": "26c505ad",
   "metadata": {},
   "outputs": [
    {
     "data": {
      "text/plain": [
       "array([3.79656813, 2.40867247, 2.19481912, 1.15411048, 0.9481874 ,\n",
       "       0.93545964, 0.68832264, 0.51789158, 0.4771336 , 0.45481793,\n",
       "       0.36497078, 0.32901041, 0.28717611, 0.25897001, 0.1838897 ])"
      ]
     },
     "execution_count": 21,
     "metadata": {},
     "output_type": "execute_result"
    }
   ],
   "source": [
    "from factor_analyzer import FactorAnalyzer\n",
    "fa = FactorAnalyzer(rotation = None)\n",
    "fa.fit(df_dropped)\n",
    "ev,v =fa.get_eigenvalues()\n",
    "ev"
   ]
  },
  {
   "cell_type": "markdown",
   "id": "69beae50",
   "metadata": {},
   "source": [
    "# Factor Analysis Execution\n",
    "- Decided to extract 6 factors based on eigen values.\n",
    "- Equamax"
   ]
  },
  {
   "cell_type": "code",
   "execution_count": 22,
   "id": "0a8ae9f3",
   "metadata": {},
   "outputs": [
    {
     "data": {
      "text/html": [
       "<style>#sk-container-id-2 {color: black;}#sk-container-id-2 pre{padding: 0;}#sk-container-id-2 div.sk-toggleable {background-color: white;}#sk-container-id-2 label.sk-toggleable__label {cursor: pointer;display: block;width: 100%;margin-bottom: 0;padding: 0.3em;box-sizing: border-box;text-align: center;}#sk-container-id-2 label.sk-toggleable__label-arrow:before {content: \"▸\";float: left;margin-right: 0.25em;color: #696969;}#sk-container-id-2 label.sk-toggleable__label-arrow:hover:before {color: black;}#sk-container-id-2 div.sk-estimator:hover label.sk-toggleable__label-arrow:before {color: black;}#sk-container-id-2 div.sk-toggleable__content {max-height: 0;max-width: 0;overflow: hidden;text-align: left;background-color: #f0f8ff;}#sk-container-id-2 div.sk-toggleable__content pre {margin: 0.2em;color: black;border-radius: 0.25em;background-color: #f0f8ff;}#sk-container-id-2 input.sk-toggleable__control:checked~div.sk-toggleable__content {max-height: 200px;max-width: 100%;overflow: auto;}#sk-container-id-2 input.sk-toggleable__control:checked~label.sk-toggleable__label-arrow:before {content: \"▾\";}#sk-container-id-2 div.sk-estimator input.sk-toggleable__control:checked~label.sk-toggleable__label {background-color: #d4ebff;}#sk-container-id-2 div.sk-label input.sk-toggleable__control:checked~label.sk-toggleable__label {background-color: #d4ebff;}#sk-container-id-2 input.sk-hidden--visually {border: 0;clip: rect(1px 1px 1px 1px);clip: rect(1px, 1px, 1px, 1px);height: 1px;margin: -1px;overflow: hidden;padding: 0;position: absolute;width: 1px;}#sk-container-id-2 div.sk-estimator {font-family: monospace;background-color: #f0f8ff;border: 1px dotted black;border-radius: 0.25em;box-sizing: border-box;margin-bottom: 0.5em;}#sk-container-id-2 div.sk-estimator:hover {background-color: #d4ebff;}#sk-container-id-2 div.sk-parallel-item::after {content: \"\";width: 100%;border-bottom: 1px solid gray;flex-grow: 1;}#sk-container-id-2 div.sk-label:hover label.sk-toggleable__label {background-color: #d4ebff;}#sk-container-id-2 div.sk-serial::before {content: \"\";position: absolute;border-left: 1px solid gray;box-sizing: border-box;top: 0;bottom: 0;left: 50%;z-index: 0;}#sk-container-id-2 div.sk-serial {display: flex;flex-direction: column;align-items: center;background-color: white;padding-right: 0.2em;padding-left: 0.2em;position: relative;}#sk-container-id-2 div.sk-item {position: relative;z-index: 1;}#sk-container-id-2 div.sk-parallel {display: flex;align-items: stretch;justify-content: center;background-color: white;position: relative;}#sk-container-id-2 div.sk-item::before, #sk-container-id-2 div.sk-parallel-item::before {content: \"\";position: absolute;border-left: 1px solid gray;box-sizing: border-box;top: 0;bottom: 0;left: 50%;z-index: -1;}#sk-container-id-2 div.sk-parallel-item {display: flex;flex-direction: column;z-index: 1;position: relative;background-color: white;}#sk-container-id-2 div.sk-parallel-item:first-child::after {align-self: flex-end;width: 50%;}#sk-container-id-2 div.sk-parallel-item:last-child::after {align-self: flex-start;width: 50%;}#sk-container-id-2 div.sk-parallel-item:only-child::after {width: 0;}#sk-container-id-2 div.sk-dashed-wrapped {border: 1px dashed gray;margin: 0 0.4em 0.5em 0.4em;box-sizing: border-box;padding-bottom: 0.4em;background-color: white;}#sk-container-id-2 div.sk-label label {font-family: monospace;font-weight: bold;display: inline-block;line-height: 1.2em;}#sk-container-id-2 div.sk-label-container {text-align: center;}#sk-container-id-2 div.sk-container {/* jupyter's `normalize.less` sets `[hidden] { display: none; }` but bootstrap.min.css set `[hidden] { display: none !important; }` so we also need the `!important` here to be able to override the default hidden behavior on the sphinx rendered scikit-learn.org. See: https://github.com/scikit-learn/scikit-learn/issues/21755 */display: inline-block !important;position: relative;}#sk-container-id-2 div.sk-text-repr-fallback {display: none;}</style><div id=\"sk-container-id-2\" class=\"sk-top-container\"><div class=\"sk-text-repr-fallback\"><pre>FactorAnalyzer(method=&#x27;principal&#x27;, n_factors=6, rotation=&#x27;equamax&#x27;,\n",
       "               rotation_kwargs={})</pre><b>In a Jupyter environment, please rerun this cell to show the HTML representation or trust the notebook. <br />On GitHub, the HTML representation is unable to render, please try loading this page with nbviewer.org.</b></div><div class=\"sk-container\" hidden><div class=\"sk-item\"><div class=\"sk-estimator sk-toggleable\"><input class=\"sk-toggleable__control sk-hidden--visually\" id=\"sk-estimator-id-2\" type=\"checkbox\" checked><label for=\"sk-estimator-id-2\" class=\"sk-toggleable__label sk-toggleable__label-arrow\">FactorAnalyzer</label><div class=\"sk-toggleable__content\"><pre>FactorAnalyzer(method=&#x27;principal&#x27;, n_factors=6, rotation=&#x27;equamax&#x27;,\n",
       "               rotation_kwargs={})</pre></div></div></div></div></div>"
      ],
      "text/plain": [
       "FactorAnalyzer(method='principal', n_factors=6, rotation='equamax',\n",
       "               rotation_kwargs={})"
      ]
     },
     "execution_count": 22,
     "metadata": {},
     "output_type": "execute_result"
    }
   ],
   "source": [
    "fa = FactorAnalyzer(n_factors=6,rotation='equamax', method='principal')\n",
    "fa.fit(df_dropped)"
   ]
  },
  {
   "cell_type": "markdown",
   "id": "8c045213",
   "metadata": {},
   "source": [
    "- Importing the 'inspect' Module"
   ]
  },
  {
   "cell_type": "code",
   "execution_count": 23,
   "id": "5ea1c76a",
   "metadata": {},
   "outputs": [],
   "source": [
    "import inspect"
   ]
  },
  {
   "cell_type": "markdown",
   "id": "fb7ec41b",
   "metadata": {},
   "source": [
    "- Communalities Calculation"
   ]
  },
  {
   "cell_type": "code",
   "execution_count": 24,
   "id": "6d9bedd9",
   "metadata": {},
   "outputs": [
    {
     "name": "stdout",
     "output_type": "stream",
     "text": [
      "[0.95559071 0.79803126 0.7260982  0.82871716 0.72606884 0.74278533\n",
      " 0.79771966 0.74935712 0.85928756 0.64053436 0.49876559 0.69057949\n",
      " 0.90321125 0.71814988 0.80292081]\n"
     ]
    }
   ],
   "source": [
    "communalities = fa.get_communalities()\n",
    "print(communalities)"
   ]
  },
  {
   "cell_type": "markdown",
   "id": "34d741f9",
   "metadata": {},
   "source": [
    "- Specific Variance Calculation"
   ]
  },
  {
   "cell_type": "code",
   "execution_count": 25,
   "id": "f5dda84d",
   "metadata": {},
   "outputs": [
    {
     "name": "stdout",
     "output_type": "stream",
     "text": [
      "[0.04440929 0.20196874 0.2739018  0.17128284 0.27393116 0.25721467\n",
      " 0.20228034 0.25064288 0.14071244 0.35946564 0.50123441 0.30942051\n",
      " 0.09678875 0.28185012 0.19707919]\n"
     ]
    }
   ],
   "source": [
    "specific_variance = 1 - communalities\n",
    "print(specific_variance)"
   ]
  },
  {
   "cell_type": "markdown",
   "id": "fca623ee",
   "metadata": {},
   "source": [
    "- Full Arguments Specification for FactorAnalyzer Inspection"
   ]
  },
  {
   "cell_type": "code",
   "execution_count": 26,
   "id": "b59c581f",
   "metadata": {},
   "outputs": [
    {
     "data": {
      "text/plain": [
       "FullArgSpec(args=['self', 'n_factors', 'rotation', 'method', 'use_smc', 'is_corr_matrix', 'bounds', 'impute', 'svd_method', 'rotation_kwargs'], varargs=None, varkw=None, defaults=(3, 'promax', 'minres', True, False, (0.005, 1), 'median', 'randomized', None), kwonlyargs=[], kwonlydefaults=None, annotations={})"
      ]
     },
     "execution_count": 26,
     "metadata": {},
     "output_type": "execute_result"
    }
   ],
   "source": [
    "inspect.getfullargspec(FactorAnalyzer)"
   ]
  },
  {
   "cell_type": "markdown",
   "id": "0a0d7922",
   "metadata": {},
   "source": [
    "# Factor Loadings"
   ]
  },
  {
   "cell_type": "code",
   "execution_count": 27,
   "id": "705cb38f",
   "metadata": {},
   "outputs": [
    {
     "data": {
      "text/html": [
       "<div>\n",
       "<style scoped>\n",
       "    .dataframe tbody tr th:only-of-type {\n",
       "        vertical-align: middle;\n",
       "    }\n",
       "\n",
       "    .dataframe tbody tr th {\n",
       "        vertical-align: top;\n",
       "    }\n",
       "\n",
       "    .dataframe thead th {\n",
       "        text-align: right;\n",
       "    }\n",
       "</style>\n",
       "<table border=\"1\" class=\"dataframe\">\n",
       "  <thead>\n",
       "    <tr style=\"text-align: right;\">\n",
       "      <th></th>\n",
       "      <th>0</th>\n",
       "      <th>1</th>\n",
       "      <th>2</th>\n",
       "      <th>3</th>\n",
       "      <th>4</th>\n",
       "      <th>5</th>\n",
       "    </tr>\n",
       "  </thead>\n",
       "  <tbody>\n",
       "    <tr>\n",
       "      <th>0</th>\n",
       "      <td>0.056445</td>\n",
       "      <td>0.021232</td>\n",
       "      <td>-0.016555</td>\n",
       "      <td>0.975264</td>\n",
       "      <td>0.023208</td>\n",
       "      <td>-0.001441</td>\n",
       "    </tr>\n",
       "    <tr>\n",
       "      <th>1</th>\n",
       "      <td>0.098465</td>\n",
       "      <td>0.845599</td>\n",
       "      <td>0.105638</td>\n",
       "      <td>-0.067353</td>\n",
       "      <td>0.235404</td>\n",
       "      <td>-0.046771</td>\n",
       "    </tr>\n",
       "    <tr>\n",
       "      <th>2</th>\n",
       "      <td>-0.037134</td>\n",
       "      <td>0.230822</td>\n",
       "      <td>0.040100</td>\n",
       "      <td>0.048968</td>\n",
       "      <td>0.799693</td>\n",
       "      <td>0.167110</td>\n",
       "    </tr>\n",
       "    <tr>\n",
       "      <th>3</th>\n",
       "      <td>-0.033436</td>\n",
       "      <td>0.822881</td>\n",
       "      <td>0.021935</td>\n",
       "      <td>-0.036096</td>\n",
       "      <td>0.380914</td>\n",
       "      <td>-0.059890</td>\n",
       "    </tr>\n",
       "    <tr>\n",
       "      <th>4</th>\n",
       "      <td>0.000114</td>\n",
       "      <td>0.230318</td>\n",
       "      <td>-0.016541</td>\n",
       "      <td>-0.001633</td>\n",
       "      <td>0.807939</td>\n",
       "      <td>-0.141351</td>\n",
       "    </tr>\n",
       "    <tr>\n",
       "      <th>5</th>\n",
       "      <td>0.856411</td>\n",
       "      <td>0.019309</td>\n",
       "      <td>-0.045330</td>\n",
       "      <td>-0.071218</td>\n",
       "      <td>0.023514</td>\n",
       "      <td>-0.035969</td>\n",
       "    </tr>\n",
       "    <tr>\n",
       "      <th>6</th>\n",
       "      <td>0.315110</td>\n",
       "      <td>0.726527</td>\n",
       "      <td>0.008148</td>\n",
       "      <td>0.229638</td>\n",
       "      <td>-0.222711</td>\n",
       "      <td>0.261120</td>\n",
       "    </tr>\n",
       "    <tr>\n",
       "      <th>7</th>\n",
       "      <td>0.829965</td>\n",
       "      <td>0.102931</td>\n",
       "      <td>-0.005049</td>\n",
       "      <td>0.162497</td>\n",
       "      <td>-0.037149</td>\n",
       "      <td>0.148690</td>\n",
       "    </tr>\n",
       "    <tr>\n",
       "      <th>8</th>\n",
       "      <td>0.806957</td>\n",
       "      <td>0.066331</td>\n",
       "      <td>0.442407</td>\n",
       "      <td>0.022516</td>\n",
       "      <td>-0.008735</td>\n",
       "      <td>-0.086026</td>\n",
       "    </tr>\n",
       "    <tr>\n",
       "      <th>9</th>\n",
       "      <td>0.106038</td>\n",
       "      <td>0.039187</td>\n",
       "      <td>0.770997</td>\n",
       "      <td>0.116751</td>\n",
       "      <td>-0.002161</td>\n",
       "      <td>0.140294</td>\n",
       "    </tr>\n",
       "    <tr>\n",
       "      <th>10</th>\n",
       "      <td>0.054187</td>\n",
       "      <td>0.217798</td>\n",
       "      <td>0.639799</td>\n",
       "      <td>0.079502</td>\n",
       "      <td>-0.139478</td>\n",
       "      <td>-0.115220</td>\n",
       "    </tr>\n",
       "    <tr>\n",
       "      <th>11</th>\n",
       "      <td>0.077250</td>\n",
       "      <td>0.014113</td>\n",
       "      <td>0.813977</td>\n",
       "      <td>-0.077631</td>\n",
       "      <td>0.039720</td>\n",
       "      <td>0.119374</td>\n",
       "    </tr>\n",
       "    <tr>\n",
       "      <th>12</th>\n",
       "      <td>0.096512</td>\n",
       "      <td>0.031241</td>\n",
       "      <td>0.200633</td>\n",
       "      <td>-0.002863</td>\n",
       "      <td>0.008685</td>\n",
       "      <td>0.923355</td>\n",
       "    </tr>\n",
       "    <tr>\n",
       "      <th>13</th>\n",
       "      <td>0.083397</td>\n",
       "      <td>-0.005811</td>\n",
       "      <td>0.830071</td>\n",
       "      <td>-0.085594</td>\n",
       "      <td>0.050997</td>\n",
       "      <td>0.110525</td>\n",
       "    </tr>\n",
       "    <tr>\n",
       "      <th>14</th>\n",
       "      <td>0.890475</td>\n",
       "      <td>0.047674</td>\n",
       "      <td>0.027379</td>\n",
       "      <td>-0.011116</td>\n",
       "      <td>-0.007523</td>\n",
       "      <td>0.082295</td>\n",
       "    </tr>\n",
       "  </tbody>\n",
       "</table>\n",
       "</div>"
      ],
      "text/plain": [
       "           0         1         2         3         4         5\n",
       "0   0.056445  0.021232 -0.016555  0.975264  0.023208 -0.001441\n",
       "1   0.098465  0.845599  0.105638 -0.067353  0.235404 -0.046771\n",
       "2  -0.037134  0.230822  0.040100  0.048968  0.799693  0.167110\n",
       "3  -0.033436  0.822881  0.021935 -0.036096  0.380914 -0.059890\n",
       "4   0.000114  0.230318 -0.016541 -0.001633  0.807939 -0.141351\n",
       "5   0.856411  0.019309 -0.045330 -0.071218  0.023514 -0.035969\n",
       "6   0.315110  0.726527  0.008148  0.229638 -0.222711  0.261120\n",
       "7   0.829965  0.102931 -0.005049  0.162497 -0.037149  0.148690\n",
       "8   0.806957  0.066331  0.442407  0.022516 -0.008735 -0.086026\n",
       "9   0.106038  0.039187  0.770997  0.116751 -0.002161  0.140294\n",
       "10  0.054187  0.217798  0.639799  0.079502 -0.139478 -0.115220\n",
       "11  0.077250  0.014113  0.813977 -0.077631  0.039720  0.119374\n",
       "12  0.096512  0.031241  0.200633 -0.002863  0.008685  0.923355\n",
       "13  0.083397 -0.005811  0.830071 -0.085594  0.050997  0.110525\n",
       "14  0.890475  0.047674  0.027379 -0.011116 -0.007523  0.082295"
      ]
     },
     "execution_count": 27,
     "metadata": {},
     "output_type": "execute_result"
    }
   ],
   "source": [
    "fa.loadings_\n",
    "\n",
    "floading=pd.DataFrame(fa.loadings_)\n",
    "floading"
   ]
  },
  {
   "cell_type": "markdown",
   "id": "03c7131e",
   "metadata": {},
   "source": [
    "# Factor Rotation Matrix"
   ]
  },
  {
   "cell_type": "code",
   "execution_count": 28,
   "id": "1f77226d",
   "metadata": {},
   "outputs": [
    {
     "data": {
      "text/html": [
       "<div>\n",
       "<style scoped>\n",
       "    .dataframe tbody tr th:only-of-type {\n",
       "        vertical-align: middle;\n",
       "    }\n",
       "\n",
       "    .dataframe tbody tr th {\n",
       "        vertical-align: top;\n",
       "    }\n",
       "\n",
       "    .dataframe thead th {\n",
       "        text-align: right;\n",
       "    }\n",
       "</style>\n",
       "<table border=\"1\" class=\"dataframe\">\n",
       "  <thead>\n",
       "    <tr style=\"text-align: right;\">\n",
       "      <th></th>\n",
       "      <th>0</th>\n",
       "      <th>1</th>\n",
       "      <th>2</th>\n",
       "      <th>3</th>\n",
       "      <th>4</th>\n",
       "      <th>5</th>\n",
       "    </tr>\n",
       "  </thead>\n",
       "  <tbody>\n",
       "    <tr>\n",
       "      <th>0</th>\n",
       "      <td>0.730814</td>\n",
       "      <td>0.368619</td>\n",
       "      <td>0.537245</td>\n",
       "      <td>-0.078856</td>\n",
       "      <td>0.079235</td>\n",
       "      <td>0.170008</td>\n",
       "    </tr>\n",
       "    <tr>\n",
       "      <th>1</th>\n",
       "      <td>-0.347274</td>\n",
       "      <td>0.698685</td>\n",
       "      <td>-0.082228</td>\n",
       "      <td>0.000004</td>\n",
       "      <td>0.618021</td>\n",
       "      <td>-0.050284</td>\n",
       "    </tr>\n",
       "    <tr>\n",
       "      <th>2</th>\n",
       "      <td>-0.538415</td>\n",
       "      <td>-0.143970</td>\n",
       "      <td>0.814711</td>\n",
       "      <td>0.110545</td>\n",
       "      <td>-0.022137</td>\n",
       "      <td>0.113656</td>\n",
       "    </tr>\n",
       "    <tr>\n",
       "      <th>3</th>\n",
       "      <td>0.225974</td>\n",
       "      <td>-0.317812</td>\n",
       "      <td>0.063030</td>\n",
       "      <td>0.699205</td>\n",
       "      <td>0.464259</td>\n",
       "      <td>-0.373543</td>\n",
       "    </tr>\n",
       "    <tr>\n",
       "      <th>4</th>\n",
       "      <td>0.058561</td>\n",
       "      <td>-0.487773</td>\n",
       "      <td>-0.042348</td>\n",
       "      <td>-0.396092</td>\n",
       "      <td>0.616830</td>\n",
       "      <td>0.468495</td>\n",
       "    </tr>\n",
       "    <tr>\n",
       "      <th>5</th>\n",
       "      <td>-0.030471</td>\n",
       "      <td>0.127690</td>\n",
       "      <td>-0.187312</td>\n",
       "      <td>0.579469</td>\n",
       "      <td>-0.123559</td>\n",
       "      <td>0.772418</td>\n",
       "    </tr>\n",
       "  </tbody>\n",
       "</table>\n",
       "</div>"
      ],
      "text/plain": [
       "          0         1         2         3         4         5\n",
       "0  0.730814  0.368619  0.537245 -0.078856  0.079235  0.170008\n",
       "1 -0.347274  0.698685 -0.082228  0.000004  0.618021 -0.050284\n",
       "2 -0.538415 -0.143970  0.814711  0.110545 -0.022137  0.113656\n",
       "3  0.225974 -0.317812  0.063030  0.699205  0.464259 -0.373543\n",
       "4  0.058561 -0.487773 -0.042348 -0.396092  0.616830  0.468495\n",
       "5 -0.030471  0.127690 -0.187312  0.579469 -0.123559  0.772418"
      ]
     },
     "execution_count": 28,
     "metadata": {},
     "output_type": "execute_result"
    }
   ],
   "source": [
    "fa.rotation_matrix_\n",
    "froma=pd.DataFrame(fa.rotation_matrix_)\n",
    "froma"
   ]
  },
  {
   "cell_type": "markdown",
   "id": "e487e86f",
   "metadata": {},
   "source": [
    "# Factor Scores"
   ]
  },
  {
   "cell_type": "code",
   "execution_count": 29,
   "id": "f4ec216a",
   "metadata": {
    "scrolled": true
   },
   "outputs": [
    {
     "data": {
      "text/html": [
       "<div>\n",
       "<style scoped>\n",
       "    .dataframe tbody tr th:only-of-type {\n",
       "        vertical-align: middle;\n",
       "    }\n",
       "\n",
       "    .dataframe tbody tr th {\n",
       "        vertical-align: top;\n",
       "    }\n",
       "\n",
       "    .dataframe thead th {\n",
       "        text-align: right;\n",
       "    }\n",
       "</style>\n",
       "<table border=\"1\" class=\"dataframe\">\n",
       "  <thead>\n",
       "    <tr style=\"text-align: right;\">\n",
       "      <th></th>\n",
       "      <th>0</th>\n",
       "      <th>1</th>\n",
       "      <th>2</th>\n",
       "      <th>3</th>\n",
       "      <th>4</th>\n",
       "      <th>5</th>\n",
       "    </tr>\n",
       "  </thead>\n",
       "  <tbody>\n",
       "    <tr>\n",
       "      <th>0</th>\n",
       "      <td>0.426389</td>\n",
       "      <td>0.808910</td>\n",
       "      <td>1.622734</td>\n",
       "      <td>0.741468</td>\n",
       "      <td>0.526425</td>\n",
       "      <td>-1.435859</td>\n",
       "    </tr>\n",
       "    <tr>\n",
       "      <th>1</th>\n",
       "      <td>1.233739</td>\n",
       "      <td>-0.183998</td>\n",
       "      <td>0.228887</td>\n",
       "      <td>-0.218012</td>\n",
       "      <td>-1.600955</td>\n",
       "      <td>-0.221773</td>\n",
       "    </tr>\n",
       "    <tr>\n",
       "      <th>2</th>\n",
       "      <td>-0.928835</td>\n",
       "      <td>-0.580518</td>\n",
       "      <td>-0.784214</td>\n",
       "      <td>-1.150948</td>\n",
       "      <td>-0.441124</td>\n",
       "      <td>-0.878482</td>\n",
       "    </tr>\n",
       "    <tr>\n",
       "      <th>3</th>\n",
       "      <td>0.172507</td>\n",
       "      <td>-1.085695</td>\n",
       "      <td>-2.804320</td>\n",
       "      <td>0.515081</td>\n",
       "      <td>-1.659012</td>\n",
       "      <td>0.589384</td>\n",
       "    </tr>\n",
       "    <tr>\n",
       "      <th>4</th>\n",
       "      <td>-0.141152</td>\n",
       "      <td>-0.631739</td>\n",
       "      <td>-1.548828</td>\n",
       "      <td>0.112308</td>\n",
       "      <td>0.734202</td>\n",
       "      <td>0.329893</td>\n",
       "    </tr>\n",
       "    <tr>\n",
       "      <th>...</th>\n",
       "      <td>...</td>\n",
       "      <td>...</td>\n",
       "      <td>...</td>\n",
       "      <td>...</td>\n",
       "      <td>...</td>\n",
       "      <td>...</td>\n",
       "    </tr>\n",
       "    <tr>\n",
       "      <th>25971</th>\n",
       "      <td>0.547496</td>\n",
       "      <td>-0.109863</td>\n",
       "      <td>0.040088</td>\n",
       "      <td>-0.757617</td>\n",
       "      <td>-0.496624</td>\n",
       "      <td>0.754029</td>\n",
       "    </tr>\n",
       "    <tr>\n",
       "      <th>25972</th>\n",
       "      <td>0.420904</td>\n",
       "      <td>0.854689</td>\n",
       "      <td>1.064080</td>\n",
       "      <td>-1.187180</td>\n",
       "      <td>0.572510</td>\n",
       "      <td>0.919077</td>\n",
       "    </tr>\n",
       "    <tr>\n",
       "      <th>25973</th>\n",
       "      <td>-1.069590</td>\n",
       "      <td>-1.548996</td>\n",
       "      <td>0.413013</td>\n",
       "      <td>-1.310679</td>\n",
       "      <td>1.958401</td>\n",
       "      <td>1.374631</td>\n",
       "    </tr>\n",
       "    <tr>\n",
       "      <th>25974</th>\n",
       "      <td>0.630527</td>\n",
       "      <td>0.154468</td>\n",
       "      <td>0.237571</td>\n",
       "      <td>-1.892233</td>\n",
       "      <td>0.057963</td>\n",
       "      <td>0.810431</td>\n",
       "    </tr>\n",
       "    <tr>\n",
       "      <th>25975</th>\n",
       "      <td>-0.751765</td>\n",
       "      <td>-0.705970</td>\n",
       "      <td>-2.248149</td>\n",
       "      <td>0.311275</td>\n",
       "      <td>1.660197</td>\n",
       "      <td>-1.406111</td>\n",
       "    </tr>\n",
       "  </tbody>\n",
       "</table>\n",
       "<p>25976 rows × 6 columns</p>\n",
       "</div>"
      ],
      "text/plain": [
       "              0         1         2         3         4         5\n",
       "0      0.426389  0.808910  1.622734  0.741468  0.526425 -1.435859\n",
       "1      1.233739 -0.183998  0.228887 -0.218012 -1.600955 -0.221773\n",
       "2     -0.928835 -0.580518 -0.784214 -1.150948 -0.441124 -0.878482\n",
       "3      0.172507 -1.085695 -2.804320  0.515081 -1.659012  0.589384\n",
       "4     -0.141152 -0.631739 -1.548828  0.112308  0.734202  0.329893\n",
       "...         ...       ...       ...       ...       ...       ...\n",
       "25971  0.547496 -0.109863  0.040088 -0.757617 -0.496624  0.754029\n",
       "25972  0.420904  0.854689  1.064080 -1.187180  0.572510  0.919077\n",
       "25973 -1.069590 -1.548996  0.413013 -1.310679  1.958401  1.374631\n",
       "25974  0.630527  0.154468  0.237571 -1.892233  0.057963  0.810431\n",
       "25975 -0.751765 -0.705970 -2.248149  0.311275  1.660197 -1.406111\n",
       "\n",
       "[25976 rows x 6 columns]"
      ]
     },
     "execution_count": 29,
     "metadata": {},
     "output_type": "execute_result"
    }
   ],
   "source": [
    "fscore = fa.transform(df_dropped)\n",
    "fscore_data=pd.DataFrame(fscore)\n",
    "fscore_data"
   ]
  },
  {
   "cell_type": "markdown",
   "id": "c1a103e1",
   "metadata": {},
   "source": [
    "- Splitting dataset into independent and dependent "
   ]
  },
  {
   "cell_type": "code",
   "execution_count": 30,
   "id": "86b7f80c",
   "metadata": {},
   "outputs": [],
   "source": [
    "x=fscore_data\n",
    "y=df.iloc[:,-1]"
   ]
  },
  {
   "cell_type": "code",
   "execution_count": 31,
   "id": "49948d8f",
   "metadata": {},
   "outputs": [
    {
     "data": {
      "text/html": [
       "<div>\n",
       "<style scoped>\n",
       "    .dataframe tbody tr th:only-of-type {\n",
       "        vertical-align: middle;\n",
       "    }\n",
       "\n",
       "    .dataframe tbody tr th {\n",
       "        vertical-align: top;\n",
       "    }\n",
       "\n",
       "    .dataframe thead th {\n",
       "        text-align: right;\n",
       "    }\n",
       "</style>\n",
       "<table border=\"1\" class=\"dataframe\">\n",
       "  <thead>\n",
       "    <tr style=\"text-align: right;\">\n",
       "      <th></th>\n",
       "      <th>0</th>\n",
       "      <th>1</th>\n",
       "      <th>2</th>\n",
       "      <th>3</th>\n",
       "      <th>4</th>\n",
       "      <th>5</th>\n",
       "    </tr>\n",
       "  </thead>\n",
       "  <tbody>\n",
       "    <tr>\n",
       "      <th>0</th>\n",
       "      <td>0.426389</td>\n",
       "      <td>0.808910</td>\n",
       "      <td>1.622734</td>\n",
       "      <td>0.741468</td>\n",
       "      <td>0.526425</td>\n",
       "      <td>-1.435859</td>\n",
       "    </tr>\n",
       "    <tr>\n",
       "      <th>1</th>\n",
       "      <td>1.233739</td>\n",
       "      <td>-0.183998</td>\n",
       "      <td>0.228887</td>\n",
       "      <td>-0.218012</td>\n",
       "      <td>-1.600955</td>\n",
       "      <td>-0.221773</td>\n",
       "    </tr>\n",
       "    <tr>\n",
       "      <th>2</th>\n",
       "      <td>-0.928835</td>\n",
       "      <td>-0.580518</td>\n",
       "      <td>-0.784214</td>\n",
       "      <td>-1.150948</td>\n",
       "      <td>-0.441124</td>\n",
       "      <td>-0.878482</td>\n",
       "    </tr>\n",
       "    <tr>\n",
       "      <th>3</th>\n",
       "      <td>0.172507</td>\n",
       "      <td>-1.085695</td>\n",
       "      <td>-2.804320</td>\n",
       "      <td>0.515081</td>\n",
       "      <td>-1.659012</td>\n",
       "      <td>0.589384</td>\n",
       "    </tr>\n",
       "    <tr>\n",
       "      <th>4</th>\n",
       "      <td>-0.141152</td>\n",
       "      <td>-0.631739</td>\n",
       "      <td>-1.548828</td>\n",
       "      <td>0.112308</td>\n",
       "      <td>0.734202</td>\n",
       "      <td>0.329893</td>\n",
       "    </tr>\n",
       "    <tr>\n",
       "      <th>...</th>\n",
       "      <td>...</td>\n",
       "      <td>...</td>\n",
       "      <td>...</td>\n",
       "      <td>...</td>\n",
       "      <td>...</td>\n",
       "      <td>...</td>\n",
       "    </tr>\n",
       "    <tr>\n",
       "      <th>25971</th>\n",
       "      <td>0.547496</td>\n",
       "      <td>-0.109863</td>\n",
       "      <td>0.040088</td>\n",
       "      <td>-0.757617</td>\n",
       "      <td>-0.496624</td>\n",
       "      <td>0.754029</td>\n",
       "    </tr>\n",
       "    <tr>\n",
       "      <th>25972</th>\n",
       "      <td>0.420904</td>\n",
       "      <td>0.854689</td>\n",
       "      <td>1.064080</td>\n",
       "      <td>-1.187180</td>\n",
       "      <td>0.572510</td>\n",
       "      <td>0.919077</td>\n",
       "    </tr>\n",
       "    <tr>\n",
       "      <th>25973</th>\n",
       "      <td>-1.069590</td>\n",
       "      <td>-1.548996</td>\n",
       "      <td>0.413013</td>\n",
       "      <td>-1.310679</td>\n",
       "      <td>1.958401</td>\n",
       "      <td>1.374631</td>\n",
       "    </tr>\n",
       "    <tr>\n",
       "      <th>25974</th>\n",
       "      <td>0.630527</td>\n",
       "      <td>0.154468</td>\n",
       "      <td>0.237571</td>\n",
       "      <td>-1.892233</td>\n",
       "      <td>0.057963</td>\n",
       "      <td>0.810431</td>\n",
       "    </tr>\n",
       "    <tr>\n",
       "      <th>25975</th>\n",
       "      <td>-0.751765</td>\n",
       "      <td>-0.705970</td>\n",
       "      <td>-2.248149</td>\n",
       "      <td>0.311275</td>\n",
       "      <td>1.660197</td>\n",
       "      <td>-1.406111</td>\n",
       "    </tr>\n",
       "  </tbody>\n",
       "</table>\n",
       "<p>25976 rows × 6 columns</p>\n",
       "</div>"
      ],
      "text/plain": [
       "              0         1         2         3         4         5\n",
       "0      0.426389  0.808910  1.622734  0.741468  0.526425 -1.435859\n",
       "1      1.233739 -0.183998  0.228887 -0.218012 -1.600955 -0.221773\n",
       "2     -0.928835 -0.580518 -0.784214 -1.150948 -0.441124 -0.878482\n",
       "3      0.172507 -1.085695 -2.804320  0.515081 -1.659012  0.589384\n",
       "4     -0.141152 -0.631739 -1.548828  0.112308  0.734202  0.329893\n",
       "...         ...       ...       ...       ...       ...       ...\n",
       "25971  0.547496 -0.109863  0.040088 -0.757617 -0.496624  0.754029\n",
       "25972  0.420904  0.854689  1.064080 -1.187180  0.572510  0.919077\n",
       "25973 -1.069590 -1.548996  0.413013 -1.310679  1.958401  1.374631\n",
       "25974  0.630527  0.154468  0.237571 -1.892233  0.057963  0.810431\n",
       "25975 -0.751765 -0.705970 -2.248149  0.311275  1.660197 -1.406111\n",
       "\n",
       "[25976 rows x 6 columns]"
      ]
     },
     "execution_count": 31,
     "metadata": {},
     "output_type": "execute_result"
    }
   ],
   "source": [
    "x"
   ]
  },
  {
   "cell_type": "code",
   "execution_count": 32,
   "id": "8b9b9bc9",
   "metadata": {},
   "outputs": [
    {
     "data": {
      "text/plain": [
       "0        1\n",
       "1        1\n",
       "2        0\n",
       "3        1\n",
       "4        1\n",
       "        ..\n",
       "25971    0\n",
       "25972    1\n",
       "25973    0\n",
       "25974    1\n",
       "25975    0\n",
       "Name: satisfaction, Length: 25976, dtype: int64"
      ]
     },
     "execution_count": 32,
     "metadata": {},
     "output_type": "execute_result"
    }
   ],
   "source": [
    "y"
   ]
  },
  {
   "cell_type": "markdown",
   "id": "52b1bddd",
   "metadata": {},
   "source": [
    "# Train-Test Split"
   ]
  },
  {
   "cell_type": "code",
   "execution_count": 33,
   "id": "0820b0e1",
   "metadata": {},
   "outputs": [],
   "source": [
    "from sklearn.model_selection import train_test_split\n",
    "x_train, x_test, y_train, y_test = train_test_split(x, y, test_size=0.2, random_state=42)"
   ]
  },
  {
   "cell_type": "markdown",
   "id": "e056abe5",
   "metadata": {},
   "source": [
    "# Logistic Regression Classifier Initialization"
   ]
  },
  {
   "cell_type": "code",
   "execution_count": 34,
   "id": "951bc458",
   "metadata": {},
   "outputs": [],
   "source": [
    "from sklearn.linear_model import LogisticRegression\n",
    "classifier=LogisticRegression()"
   ]
  },
  {
   "cell_type": "code",
   "execution_count": 35,
   "id": "f601cc78",
   "metadata": {},
   "outputs": [],
   "source": [
    "from sklearn.model_selection import GridSearchCV\n",
    "parameter={'penalty':['l1','l2','elasticnet'],'C':[1,2,3,4,5,6,7,8,10],'max_iter':[100,200,300]}"
   ]
  },
  {
   "cell_type": "markdown",
   "id": "f79fb4ea",
   "metadata": {},
   "source": [
    "# Finding best parameter"
   ]
  },
  {
   "cell_type": "code",
   "execution_count": 36,
   "id": "bbbefd92",
   "metadata": {},
   "outputs": [],
   "source": [
    "classifier_regressor=GridSearchCV(classifier,param_grid=parameter,scoring='accuracy',cv=5)"
   ]
  },
  {
   "cell_type": "code",
   "execution_count": 37,
   "id": "f612bc60",
   "metadata": {},
   "outputs": [
    {
     "name": "stderr",
     "output_type": "stream",
     "text": [
      "C:\\ProgramData\\anaconda3\\Lib\\site-packages\\sklearn\\model_selection\\_validation.py:425: FitFailedWarning: \n",
      "270 fits failed out of a total of 405.\n",
      "The score on these train-test partitions for these parameters will be set to nan.\n",
      "If these failures are not expected, you can try to debug them by setting error_score='raise'.\n",
      "\n",
      "Below are more details about the failures:\n",
      "--------------------------------------------------------------------------------\n",
      "135 fits failed with the following error:\n",
      "Traceback (most recent call last):\n",
      "  File \"C:\\ProgramData\\anaconda3\\Lib\\site-packages\\sklearn\\model_selection\\_validation.py\", line 732, in _fit_and_score\n",
      "    estimator.fit(X_train, y_train, **fit_params)\n",
      "  File \"C:\\ProgramData\\anaconda3\\Lib\\site-packages\\sklearn\\base.py\", line 1151, in wrapper\n",
      "    return fit_method(estimator, *args, **kwargs)\n",
      "           ^^^^^^^^^^^^^^^^^^^^^^^^^^^^^^^^^^^^^^\n",
      "  File \"C:\\ProgramData\\anaconda3\\Lib\\site-packages\\sklearn\\linear_model\\_logistic.py\", line 1168, in fit\n",
      "    solver = _check_solver(self.solver, self.penalty, self.dual)\n",
      "             ^^^^^^^^^^^^^^^^^^^^^^^^^^^^^^^^^^^^^^^^^^^^^^^^^^^\n",
      "  File \"C:\\ProgramData\\anaconda3\\Lib\\site-packages\\sklearn\\linear_model\\_logistic.py\", line 56, in _check_solver\n",
      "    raise ValueError(\n",
      "ValueError: Solver lbfgs supports only 'l2' or 'none' penalties, got l1 penalty.\n",
      "\n",
      "--------------------------------------------------------------------------------\n",
      "135 fits failed with the following error:\n",
      "Traceback (most recent call last):\n",
      "  File \"C:\\ProgramData\\anaconda3\\Lib\\site-packages\\sklearn\\model_selection\\_validation.py\", line 732, in _fit_and_score\n",
      "    estimator.fit(X_train, y_train, **fit_params)\n",
      "  File \"C:\\ProgramData\\anaconda3\\Lib\\site-packages\\sklearn\\base.py\", line 1151, in wrapper\n",
      "    return fit_method(estimator, *args, **kwargs)\n",
      "           ^^^^^^^^^^^^^^^^^^^^^^^^^^^^^^^^^^^^^^\n",
      "  File \"C:\\ProgramData\\anaconda3\\Lib\\site-packages\\sklearn\\linear_model\\_logistic.py\", line 1168, in fit\n",
      "    solver = _check_solver(self.solver, self.penalty, self.dual)\n",
      "             ^^^^^^^^^^^^^^^^^^^^^^^^^^^^^^^^^^^^^^^^^^^^^^^^^^^\n",
      "  File \"C:\\ProgramData\\anaconda3\\Lib\\site-packages\\sklearn\\linear_model\\_logistic.py\", line 56, in _check_solver\n",
      "    raise ValueError(\n",
      "ValueError: Solver lbfgs supports only 'l2' or 'none' penalties, got elasticnet penalty.\n",
      "\n",
      "  warnings.warn(some_fits_failed_message, FitFailedWarning)\n",
      "C:\\ProgramData\\anaconda3\\Lib\\site-packages\\sklearn\\model_selection\\_search.py:976: UserWarning: One or more of the test scores are non-finite: [       nan 0.80577478        nan        nan 0.80577478        nan\n",
      "        nan 0.80577478        nan        nan 0.80577478        nan\n",
      "        nan 0.80577478        nan        nan 0.80577478        nan\n",
      "        nan 0.80577478        nan        nan 0.80577478        nan\n",
      "        nan 0.80577478        nan        nan 0.80577478        nan\n",
      "        nan 0.80577478        nan        nan 0.80577478        nan\n",
      "        nan 0.80582291        nan        nan 0.80582291        nan\n",
      "        nan 0.80582291        nan        nan 0.80582291        nan\n",
      "        nan 0.80582291        nan        nan 0.80582291        nan\n",
      "        nan 0.80582291        nan        nan 0.80582291        nan\n",
      "        nan 0.80582291        nan        nan 0.80582291        nan\n",
      "        nan 0.80582291        nan        nan 0.80582291        nan\n",
      "        nan 0.80582291        nan        nan 0.80582291        nan\n",
      "        nan 0.80582291        nan]\n",
      "  warnings.warn(\n"
     ]
    },
    {
     "data": {
      "text/html": [
       "<style>#sk-container-id-3 {color: black;}#sk-container-id-3 pre{padding: 0;}#sk-container-id-3 div.sk-toggleable {background-color: white;}#sk-container-id-3 label.sk-toggleable__label {cursor: pointer;display: block;width: 100%;margin-bottom: 0;padding: 0.3em;box-sizing: border-box;text-align: center;}#sk-container-id-3 label.sk-toggleable__label-arrow:before {content: \"▸\";float: left;margin-right: 0.25em;color: #696969;}#sk-container-id-3 label.sk-toggleable__label-arrow:hover:before {color: black;}#sk-container-id-3 div.sk-estimator:hover label.sk-toggleable__label-arrow:before {color: black;}#sk-container-id-3 div.sk-toggleable__content {max-height: 0;max-width: 0;overflow: hidden;text-align: left;background-color: #f0f8ff;}#sk-container-id-3 div.sk-toggleable__content pre {margin: 0.2em;color: black;border-radius: 0.25em;background-color: #f0f8ff;}#sk-container-id-3 input.sk-toggleable__control:checked~div.sk-toggleable__content {max-height: 200px;max-width: 100%;overflow: auto;}#sk-container-id-3 input.sk-toggleable__control:checked~label.sk-toggleable__label-arrow:before {content: \"▾\";}#sk-container-id-3 div.sk-estimator input.sk-toggleable__control:checked~label.sk-toggleable__label {background-color: #d4ebff;}#sk-container-id-3 div.sk-label input.sk-toggleable__control:checked~label.sk-toggleable__label {background-color: #d4ebff;}#sk-container-id-3 input.sk-hidden--visually {border: 0;clip: rect(1px 1px 1px 1px);clip: rect(1px, 1px, 1px, 1px);height: 1px;margin: -1px;overflow: hidden;padding: 0;position: absolute;width: 1px;}#sk-container-id-3 div.sk-estimator {font-family: monospace;background-color: #f0f8ff;border: 1px dotted black;border-radius: 0.25em;box-sizing: border-box;margin-bottom: 0.5em;}#sk-container-id-3 div.sk-estimator:hover {background-color: #d4ebff;}#sk-container-id-3 div.sk-parallel-item::after {content: \"\";width: 100%;border-bottom: 1px solid gray;flex-grow: 1;}#sk-container-id-3 div.sk-label:hover label.sk-toggleable__label {background-color: #d4ebff;}#sk-container-id-3 div.sk-serial::before {content: \"\";position: absolute;border-left: 1px solid gray;box-sizing: border-box;top: 0;bottom: 0;left: 50%;z-index: 0;}#sk-container-id-3 div.sk-serial {display: flex;flex-direction: column;align-items: center;background-color: white;padding-right: 0.2em;padding-left: 0.2em;position: relative;}#sk-container-id-3 div.sk-item {position: relative;z-index: 1;}#sk-container-id-3 div.sk-parallel {display: flex;align-items: stretch;justify-content: center;background-color: white;position: relative;}#sk-container-id-3 div.sk-item::before, #sk-container-id-3 div.sk-parallel-item::before {content: \"\";position: absolute;border-left: 1px solid gray;box-sizing: border-box;top: 0;bottom: 0;left: 50%;z-index: -1;}#sk-container-id-3 div.sk-parallel-item {display: flex;flex-direction: column;z-index: 1;position: relative;background-color: white;}#sk-container-id-3 div.sk-parallel-item:first-child::after {align-self: flex-end;width: 50%;}#sk-container-id-3 div.sk-parallel-item:last-child::after {align-self: flex-start;width: 50%;}#sk-container-id-3 div.sk-parallel-item:only-child::after {width: 0;}#sk-container-id-3 div.sk-dashed-wrapped {border: 1px dashed gray;margin: 0 0.4em 0.5em 0.4em;box-sizing: border-box;padding-bottom: 0.4em;background-color: white;}#sk-container-id-3 div.sk-label label {font-family: monospace;font-weight: bold;display: inline-block;line-height: 1.2em;}#sk-container-id-3 div.sk-label-container {text-align: center;}#sk-container-id-3 div.sk-container {/* jupyter's `normalize.less` sets `[hidden] { display: none; }` but bootstrap.min.css set `[hidden] { display: none !important; }` so we also need the `!important` here to be able to override the default hidden behavior on the sphinx rendered scikit-learn.org. See: https://github.com/scikit-learn/scikit-learn/issues/21755 */display: inline-block !important;position: relative;}#sk-container-id-3 div.sk-text-repr-fallback {display: none;}</style><div id=\"sk-container-id-3\" class=\"sk-top-container\"><div class=\"sk-text-repr-fallback\"><pre>GridSearchCV(cv=5, estimator=LogisticRegression(),\n",
       "             param_grid={&#x27;C&#x27;: [1, 2, 3, 4, 5, 6, 7, 8, 10],\n",
       "                         &#x27;max_iter&#x27;: [100, 200, 300],\n",
       "                         &#x27;penalty&#x27;: [&#x27;l1&#x27;, &#x27;l2&#x27;, &#x27;elasticnet&#x27;]},\n",
       "             scoring=&#x27;accuracy&#x27;)</pre><b>In a Jupyter environment, please rerun this cell to show the HTML representation or trust the notebook. <br />On GitHub, the HTML representation is unable to render, please try loading this page with nbviewer.org.</b></div><div class=\"sk-container\" hidden><div class=\"sk-item sk-dashed-wrapped\"><div class=\"sk-label-container\"><div class=\"sk-label sk-toggleable\"><input class=\"sk-toggleable__control sk-hidden--visually\" id=\"sk-estimator-id-3\" type=\"checkbox\" ><label for=\"sk-estimator-id-3\" class=\"sk-toggleable__label sk-toggleable__label-arrow\">GridSearchCV</label><div class=\"sk-toggleable__content\"><pre>GridSearchCV(cv=5, estimator=LogisticRegression(),\n",
       "             param_grid={&#x27;C&#x27;: [1, 2, 3, 4, 5, 6, 7, 8, 10],\n",
       "                         &#x27;max_iter&#x27;: [100, 200, 300],\n",
       "                         &#x27;penalty&#x27;: [&#x27;l1&#x27;, &#x27;l2&#x27;, &#x27;elasticnet&#x27;]},\n",
       "             scoring=&#x27;accuracy&#x27;)</pre></div></div></div><div class=\"sk-parallel\"><div class=\"sk-parallel-item\"><div class=\"sk-item\"><div class=\"sk-label-container\"><div class=\"sk-label sk-toggleable\"><input class=\"sk-toggleable__control sk-hidden--visually\" id=\"sk-estimator-id-4\" type=\"checkbox\" ><label for=\"sk-estimator-id-4\" class=\"sk-toggleable__label sk-toggleable__label-arrow\">estimator: LogisticRegression</label><div class=\"sk-toggleable__content\"><pre>LogisticRegression()</pre></div></div></div><div class=\"sk-serial\"><div class=\"sk-item\"><div class=\"sk-estimator sk-toggleable\"><input class=\"sk-toggleable__control sk-hidden--visually\" id=\"sk-estimator-id-5\" type=\"checkbox\" ><label for=\"sk-estimator-id-5\" class=\"sk-toggleable__label sk-toggleable__label-arrow\">LogisticRegression</label><div class=\"sk-toggleable__content\"><pre>LogisticRegression()</pre></div></div></div></div></div></div></div></div></div></div>"
      ],
      "text/plain": [
       "GridSearchCV(cv=5, estimator=LogisticRegression(),\n",
       "             param_grid={'C': [1, 2, 3, 4, 5, 6, 7, 8, 10],\n",
       "                         'max_iter': [100, 200, 300],\n",
       "                         'penalty': ['l1', 'l2', 'elasticnet']},\n",
       "             scoring='accuracy')"
      ]
     },
     "execution_count": 37,
     "metadata": {},
     "output_type": "execute_result"
    }
   ],
   "source": [
    "classifier_regressor.fit(x_train,y_train)"
   ]
  },
  {
   "cell_type": "code",
   "execution_count": 38,
   "id": "1d6dd504",
   "metadata": {},
   "outputs": [
    {
     "name": "stdout",
     "output_type": "stream",
     "text": [
      "{'C': 5, 'max_iter': 100, 'penalty': 'l2'}\n"
     ]
    }
   ],
   "source": [
    "print(classifier_regressor.best_params_) # best parametrs using gridsearchCV"
   ]
  },
  {
   "cell_type": "code",
   "execution_count": 39,
   "id": "cc883e64",
   "metadata": {},
   "outputs": [
    {
     "name": "stdout",
     "output_type": "stream",
     "text": [
      "0.8058229066410011\n"
     ]
    }
   ],
   "source": [
    "print(classifier_regressor.best_score_) #Score based on best paramters"
   ]
  },
  {
   "cell_type": "markdown",
   "id": "21bb5cc2",
   "metadata": {},
   "source": [
    "# Prediction using Classifier"
   ]
  },
  {
   "cell_type": "code",
   "execution_count": 40,
   "id": "a1a5da8d",
   "metadata": {},
   "outputs": [],
   "source": [
    "y_predict=classifier_regressor.predict(x_test)"
   ]
  },
  {
   "cell_type": "code",
   "execution_count": 41,
   "id": "376d3e9a",
   "metadata": {},
   "outputs": [],
   "source": [
    "from sklearn.metrics import accuracy_score,classification_report"
   ]
  },
  {
   "cell_type": "code",
   "execution_count": 42,
   "id": "6dc69ede",
   "metadata": {},
   "outputs": [
    {
     "name": "stdout",
     "output_type": "stream",
     "text": [
      "0.7979214780600462\n"
     ]
    }
   ],
   "source": [
    "score=accuracy_score(y_predict,y_test)\n",
    "print(score)"
   ]
  },
  {
   "cell_type": "code",
   "execution_count": 43,
   "id": "a9ef6717",
   "metadata": {},
   "outputs": [
    {
     "data": {
      "text/plain": [
       "array([[2419,  524],\n",
       "       [ 526, 1727]], dtype=int64)"
      ]
     },
     "execution_count": 43,
     "metadata": {},
     "output_type": "execute_result"
    }
   ],
   "source": [
    "from sklearn.metrics import confusion_matrix\n",
    "confusion_matrix(y_predict,y_test)"
   ]
  },
  {
   "cell_type": "code",
   "execution_count": 44,
   "id": "d9cb9114",
   "metadata": {},
   "outputs": [
    {
     "data": {
      "text/html": [
       "<div>\n",
       "<style scoped>\n",
       "    .dataframe tbody tr th:only-of-type {\n",
       "        vertical-align: middle;\n",
       "    }\n",
       "\n",
       "    .dataframe tbody tr th {\n",
       "        vertical-align: top;\n",
       "    }\n",
       "\n",
       "    .dataframe thead th {\n",
       "        text-align: right;\n",
       "    }\n",
       "</style>\n",
       "<table border=\"1\" class=\"dataframe\">\n",
       "  <thead>\n",
       "    <tr style=\"text-align: right;\">\n",
       "      <th></th>\n",
       "      <th>0</th>\n",
       "      <th>1</th>\n",
       "      <th>2</th>\n",
       "      <th>3</th>\n",
       "      <th>4</th>\n",
       "      <th>5</th>\n",
       "    </tr>\n",
       "  </thead>\n",
       "  <tbody>\n",
       "    <tr>\n",
       "      <th>0</th>\n",
       "      <td>0.426389</td>\n",
       "      <td>0.808910</td>\n",
       "      <td>1.622734</td>\n",
       "      <td>0.741468</td>\n",
       "      <td>0.526425</td>\n",
       "      <td>-1.435859</td>\n",
       "    </tr>\n",
       "    <tr>\n",
       "      <th>1</th>\n",
       "      <td>1.233739</td>\n",
       "      <td>-0.183998</td>\n",
       "      <td>0.228887</td>\n",
       "      <td>-0.218012</td>\n",
       "      <td>-1.600955</td>\n",
       "      <td>-0.221773</td>\n",
       "    </tr>\n",
       "    <tr>\n",
       "      <th>2</th>\n",
       "      <td>-0.928835</td>\n",
       "      <td>-0.580518</td>\n",
       "      <td>-0.784214</td>\n",
       "      <td>-1.150948</td>\n",
       "      <td>-0.441124</td>\n",
       "      <td>-0.878482</td>\n",
       "    </tr>\n",
       "    <tr>\n",
       "      <th>3</th>\n",
       "      <td>0.172507</td>\n",
       "      <td>-1.085695</td>\n",
       "      <td>-2.804320</td>\n",
       "      <td>0.515081</td>\n",
       "      <td>-1.659012</td>\n",
       "      <td>0.589384</td>\n",
       "    </tr>\n",
       "    <tr>\n",
       "      <th>4</th>\n",
       "      <td>-0.141152</td>\n",
       "      <td>-0.631739</td>\n",
       "      <td>-1.548828</td>\n",
       "      <td>0.112308</td>\n",
       "      <td>0.734202</td>\n",
       "      <td>0.329893</td>\n",
       "    </tr>\n",
       "    <tr>\n",
       "      <th>5</th>\n",
       "      <td>1.283752</td>\n",
       "      <td>0.833497</td>\n",
       "      <td>-1.149738</td>\n",
       "      <td>-1.239190</td>\n",
       "      <td>-0.548118</td>\n",
       "      <td>-1.640956</td>\n",
       "    </tr>\n",
       "    <tr>\n",
       "      <th>6</th>\n",
       "      <td>0.223619</td>\n",
       "      <td>1.459274</td>\n",
       "      <td>1.477822</td>\n",
       "      <td>2.484470</td>\n",
       "      <td>1.301442</td>\n",
       "      <td>0.038439</td>\n",
       "    </tr>\n",
       "    <tr>\n",
       "      <th>7</th>\n",
       "      <td>0.492990</td>\n",
       "      <td>-0.215809</td>\n",
       "      <td>0.338700</td>\n",
       "      <td>0.335376</td>\n",
       "      <td>-0.898786</td>\n",
       "      <td>1.199656</td>\n",
       "    </tr>\n",
       "    <tr>\n",
       "      <th>8</th>\n",
       "      <td>1.536345</td>\n",
       "      <td>0.835491</td>\n",
       "      <td>-0.583663</td>\n",
       "      <td>0.023802</td>\n",
       "      <td>-0.956269</td>\n",
       "      <td>-0.138158</td>\n",
       "    </tr>\n",
       "    <tr>\n",
       "      <th>9</th>\n",
       "      <td>0.272247</td>\n",
       "      <td>-0.206915</td>\n",
       "      <td>0.411405</td>\n",
       "      <td>0.483028</td>\n",
       "      <td>-0.909512</td>\n",
       "      <td>1.198102</td>\n",
       "    </tr>\n",
       "    <tr>\n",
       "      <th>10</th>\n",
       "      <td>0.896344</td>\n",
       "      <td>-0.541961</td>\n",
       "      <td>-0.330374</td>\n",
       "      <td>0.187981</td>\n",
       "      <td>-1.229378</td>\n",
       "      <td>-2.105831</td>\n",
       "    </tr>\n",
       "    <tr>\n",
       "      <th>11</th>\n",
       "      <td>-0.359278</td>\n",
       "      <td>0.288749</td>\n",
       "      <td>-1.615050</td>\n",
       "      <td>-0.160210</td>\n",
       "      <td>1.648053</td>\n",
       "      <td>0.284830</td>\n",
       "    </tr>\n",
       "    <tr>\n",
       "      <th>12</th>\n",
       "      <td>0.501008</td>\n",
       "      <td>1.528650</td>\n",
       "      <td>1.351170</td>\n",
       "      <td>0.454774</td>\n",
       "      <td>1.239879</td>\n",
       "      <td>0.809985</td>\n",
       "    </tr>\n",
       "    <tr>\n",
       "      <th>13</th>\n",
       "      <td>1.033716</td>\n",
       "      <td>0.274260</td>\n",
       "      <td>1.347903</td>\n",
       "      <td>1.261573</td>\n",
       "      <td>-1.718232</td>\n",
       "      <td>-0.561895</td>\n",
       "    </tr>\n",
       "    <tr>\n",
       "      <th>14</th>\n",
       "      <td>1.053534</td>\n",
       "      <td>0.012937</td>\n",
       "      <td>0.262641</td>\n",
       "      <td>0.814962</td>\n",
       "      <td>-1.065399</td>\n",
       "      <td>-0.187295</td>\n",
       "    </tr>\n",
       "    <tr>\n",
       "      <th>15</th>\n",
       "      <td>-1.137178</td>\n",
       "      <td>-1.934342</td>\n",
       "      <td>0.629355</td>\n",
       "      <td>0.424576</td>\n",
       "      <td>1.180824</td>\n",
       "      <td>0.615958</td>\n",
       "    </tr>\n",
       "    <tr>\n",
       "      <th>16</th>\n",
       "      <td>-1.184619</td>\n",
       "      <td>-0.036983</td>\n",
       "      <td>-0.200982</td>\n",
       "      <td>-0.409500</td>\n",
       "      <td>1.844966</td>\n",
       "      <td>0.524477</td>\n",
       "    </tr>\n",
       "    <tr>\n",
       "      <th>17</th>\n",
       "      <td>0.331078</td>\n",
       "      <td>1.772063</td>\n",
       "      <td>0.822717</td>\n",
       "      <td>0.472364</td>\n",
       "      <td>0.000435</td>\n",
       "      <td>0.192994</td>\n",
       "    </tr>\n",
       "    <tr>\n",
       "      <th>18</th>\n",
       "      <td>0.596430</td>\n",
       "      <td>0.112346</td>\n",
       "      <td>1.035459</td>\n",
       "      <td>0.232801</td>\n",
       "      <td>-0.409510</td>\n",
       "      <td>0.775140</td>\n",
       "    </tr>\n",
       "    <tr>\n",
       "      <th>19</th>\n",
       "      <td>0.636721</td>\n",
       "      <td>1.599626</td>\n",
       "      <td>0.425221</td>\n",
       "      <td>0.549134</td>\n",
       "      <td>1.211647</td>\n",
       "      <td>0.870703</td>\n",
       "    </tr>\n",
       "  </tbody>\n",
       "</table>\n",
       "</div>"
      ],
      "text/plain": [
       "           0         1         2         3         4         5\n",
       "0   0.426389  0.808910  1.622734  0.741468  0.526425 -1.435859\n",
       "1   1.233739 -0.183998  0.228887 -0.218012 -1.600955 -0.221773\n",
       "2  -0.928835 -0.580518 -0.784214 -1.150948 -0.441124 -0.878482\n",
       "3   0.172507 -1.085695 -2.804320  0.515081 -1.659012  0.589384\n",
       "4  -0.141152 -0.631739 -1.548828  0.112308  0.734202  0.329893\n",
       "5   1.283752  0.833497 -1.149738 -1.239190 -0.548118 -1.640956\n",
       "6   0.223619  1.459274  1.477822  2.484470  1.301442  0.038439\n",
       "7   0.492990 -0.215809  0.338700  0.335376 -0.898786  1.199656\n",
       "8   1.536345  0.835491 -0.583663  0.023802 -0.956269 -0.138158\n",
       "9   0.272247 -0.206915  0.411405  0.483028 -0.909512  1.198102\n",
       "10  0.896344 -0.541961 -0.330374  0.187981 -1.229378 -2.105831\n",
       "11 -0.359278  0.288749 -1.615050 -0.160210  1.648053  0.284830\n",
       "12  0.501008  1.528650  1.351170  0.454774  1.239879  0.809985\n",
       "13  1.033716  0.274260  1.347903  1.261573 -1.718232 -0.561895\n",
       "14  1.053534  0.012937  0.262641  0.814962 -1.065399 -0.187295\n",
       "15 -1.137178 -1.934342  0.629355  0.424576  1.180824  0.615958\n",
       "16 -1.184619 -0.036983 -0.200982 -0.409500  1.844966  0.524477\n",
       "17  0.331078  1.772063  0.822717  0.472364  0.000435  0.192994\n",
       "18  0.596430  0.112346  1.035459  0.232801 -0.409510  0.775140\n",
       "19  0.636721  1.599626  0.425221  0.549134  1.211647  0.870703"
      ]
     },
     "execution_count": 44,
     "metadata": {},
     "output_type": "execute_result"
    }
   ],
   "source": [
    "x_1= x.head(20)\n",
    "x_1"
   ]
  },
  {
   "cell_type": "code",
   "execution_count": 45,
   "id": "48084149",
   "metadata": {},
   "outputs": [
    {
     "name": "stdout",
     "output_type": "stream",
     "text": [
      "[1 1 0 0 0 0 1 1 1 1 0 0 1 1 1 0 0 1 1 1]\n"
     ]
    }
   ],
   "source": [
    "y_1=classifier_regressor.predict(x_1) # prediction of first 3 values \n",
    "print(y_1)"
   ]
  },
  {
   "cell_type": "code",
   "execution_count": 46,
   "id": "7d317bf5",
   "metadata": {},
   "outputs": [
    {
     "name": "stdout",
     "output_type": "stream",
     "text": [
      "0     1\n",
      "1     1\n",
      "2     0\n",
      "3     1\n",
      "4     1\n",
      "5     1\n",
      "6     1\n",
      "7     1\n",
      "8     1\n",
      "9     1\n",
      "10    1\n",
      "11    0\n",
      "12    1\n",
      "13    1\n",
      "14    1\n",
      "15    0\n",
      "16    0\n",
      "17    1\n",
      "18    0\n",
      "19    1\n",
      "Name: satisfaction, dtype: int64\n"
     ]
    }
   ],
   "source": [
    "y_2_actual=y.head(20)\n",
    "print(y_2_actual)"
   ]
  },
  {
   "cell_type": "code",
   "execution_count": 47,
   "id": "c14cb77d",
   "metadata": {},
   "outputs": [],
   "source": [
    "Final=pd.DataFrame({\"predcit\":y_1,\"Actual\":y_2_actual})"
   ]
  },
  {
   "cell_type": "code",
   "execution_count": 48,
   "id": "38dcf81d",
   "metadata": {},
   "outputs": [
    {
     "name": "stdout",
     "output_type": "stream",
     "text": [
      "    predcit  Actual\n",
      "0         1       1\n",
      "1         1       1\n",
      "2         0       0\n",
      "3         0       1\n",
      "4         0       1\n",
      "5         0       1\n",
      "6         1       1\n",
      "7         1       1\n",
      "8         1       1\n",
      "9         1       1\n",
      "10        0       1\n",
      "11        0       0\n",
      "12        1       1\n",
      "13        1       1\n",
      "14        1       1\n",
      "15        0       0\n",
      "16        0       0\n",
      "17        1       1\n",
      "18        1       0\n",
      "19        1       1\n"
     ]
    }
   ],
   "source": [
    "print(Final)"
   ]
  },
  {
   "cell_type": "markdown",
   "id": "facfbda7",
   "metadata": {},
   "source": [
    "- Best Estimator Intercept Value"
   ]
  },
  {
   "cell_type": "code",
   "execution_count": 49,
   "id": "88bd9d7e",
   "metadata": {},
   "outputs": [
    {
     "data": {
      "text/plain": [
       "array([-0.43982258])"
      ]
     },
     "execution_count": 49,
     "metadata": {},
     "output_type": "execute_result"
    }
   ],
   "source": [
    "classifier_regressor.best_estimator_.intercept_"
   ]
  },
  {
   "cell_type": "markdown",
   "id": "4b02dcef",
   "metadata": {},
   "source": [
    "- Best Estimator Coefficients"
   ]
  },
  {
   "cell_type": "code",
   "execution_count": 50,
   "id": "6af3cf06",
   "metadata": {},
   "outputs": [
    {
     "data": {
      "text/plain": [
       "array([[ 0.95373336,  1.03349755,  0.84409895,  0.3785292 , -0.54821427,\n",
       "         0.45059117]])"
      ]
     },
     "execution_count": 50,
     "metadata": {},
     "output_type": "execute_result"
    }
   ],
   "source": [
    "classifier_regressor.best_estimator_.coef_"
   ]
  },
  {
   "cell_type": "markdown",
   "id": "63508946",
   "metadata": {},
   "source": [
    "- Coefficients Extracted from Best Estimator"
   ]
  },
  {
   "cell_type": "code",
   "execution_count": 51,
   "id": "e9c33d0d",
   "metadata": {},
   "outputs": [],
   "source": [
    "coef=classifier_regressor.best_estimator_.coef_.flatten().tolist()"
   ]
  },
  {
   "cell_type": "markdown",
   "id": "ee5da9b3",
   "metadata": {},
   "source": [
    "- Rounded Intercept Value from Best Estimator"
   ]
  },
  {
   "cell_type": "code",
   "execution_count": 52,
   "id": "c9793ffc",
   "metadata": {},
   "outputs": [
    {
     "data": {
      "text/plain": [
       "-0.44"
      ]
     },
     "execution_count": 52,
     "metadata": {},
     "output_type": "execute_result"
    }
   ],
   "source": [
    "inter=round(classifier_regressor.best_estimator_.intercept_[0],2)\n",
    "inter"
   ]
  },
  {
   "cell_type": "markdown",
   "id": "030600ab",
   "metadata": {},
   "source": [
    "- List of Factors"
   ]
  },
  {
   "cell_type": "code",
   "execution_count": 53,
   "id": "c9cd6385",
   "metadata": {},
   "outputs": [],
   "source": [
    "Factors=[\"Overall_Inflight_Experience\",\"E-flight_Experiece\",\"Luggage_Logistics\",\"Age\",\"Off_flight_Experience\",\"Check-IN_Experience\"]"
   ]
  },
  {
   "cell_type": "markdown",
   "id": "cb916b18",
   "metadata": {},
   "source": [
    "# Extracted Factors Are\n",
    "- Overall_Inflight_Experience \n",
    "- E-flight_Experiece\n",
    "- Luggage_Logistics \n",
    "- Age \n",
    "- Off_flight_Experience \n",
    "- Check-IN_Experience"
   ]
  },
  {
   "cell_type": "markdown",
   "id": "998c1658",
   "metadata": {},
   "source": [
    "# Model Building"
   ]
  },
  {
   "cell_type": "code",
   "execution_count": 60,
   "id": "716f61ae",
   "metadata": {},
   "outputs": [],
   "source": [
    "#run once\n",
    "model=\"Intercept*\"\n",
    "model+=str(inter)+\" \""
   ]
  },
  {
   "cell_type": "code",
   "execution_count": 61,
   "id": "6d7d378d",
   "metadata": {},
   "outputs": [],
   "source": [
    "for i in  range(0,len(Factors)):\n",
    "    if coef[i]>0:\n",
    "        model+=\" + \"\n",
    "        model+=(str(round(coef[i],2))+\"*\"+(str(Factors[i])))\n",
    "    else:\n",
    "        model+=\" \"+(str(round(coef[i],2))+\"*\"+(str(Factors[i])))"
   ]
  },
  {
   "cell_type": "code",
   "execution_count": 62,
   "id": "d1a6b0b3",
   "metadata": {},
   "outputs": [
    {
     "data": {
      "text/plain": [
       "'Intercept*-0.44  + 0.95*Overall_Inflight_Experience + 1.03*E-flight_Experiece + 0.84*Luggage_Logistics + 0.38*Age -0.55*Off_flight_Experience + 0.45*Check-IN_Experience'"
      ]
     },
     "execution_count": 62,
     "metadata": {},
     "output_type": "execute_result"
    }
   ],
   "source": [
    "model"
   ]
  }
 ],
 "metadata": {
  "kernelspec": {
   "display_name": "Python 3 (ipykernel)",
   "language": "python",
   "name": "python3"
  },
  "language_info": {
   "codemirror_mode": {
    "name": "ipython",
    "version": 3
   },
   "file_extension": ".py",
   "mimetype": "text/x-python",
   "name": "python",
   "nbconvert_exporter": "python",
   "pygments_lexer": "ipython3",
   "version": "3.11.5"
  }
 },
 "nbformat": 4,
 "nbformat_minor": 5
}
